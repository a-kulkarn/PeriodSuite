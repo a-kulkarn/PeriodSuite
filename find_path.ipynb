{
 "cells": [
  {
   "cell_type": "code",
   "execution_count": null,
   "metadata": {
    "collapsed": false,
    "deletable": true,
    "editable": true
   },
   "outputs": [],
   "source": [
    "#######################################################\n",
    "#### Set this value to the directory of period-suite ##\n",
    "#######################################################\n",
    "pathToSuite=\"/Users/sertoez/git-projects/period-suite/\"\n",
    "#######################################################\n",
    "\n",
    "\n",
    "# If pathfinder is called, use this block\n",
    "load(pathToSuite+\"singularities.sage\")\n",
    "Q=len(allSings);\n",
    "plot=[1..Q];\n",
    "for i in [1..Q]:\n",
    "    plot[i-1]=point2d([(real(pt),imag(pt)) for pt in allSings[i-1] if abs(pt) <= 2],pointsize=15,rgbcolor='blue')\n",
    "    \n",
    "for i in [1..Q]:\n",
    "    if len(paths) != 0:\n",
    "        path=line([(real(pt),imag(pt)) for pt in paths[i-1]],color='red')\n",
    "    else:\n",
    "        path=line([(0,0),(1,0)],color='red')\n",
    "    picture=plot[i-1]+path\n",
    "    picture.show(frame=true,aspect_ratio=1,ymax=2,ymin=-2,xmax=2,xmin=-2)\n",
    "\n"
   ]
  },
  {
   "cell_type": "code",
   "execution_count": null,
   "metadata": {
    "collapsed": false,
    "deletable": true,
    "editable": true,
    "scrolled": true
   },
   "outputs": [],
   "source": [
    "#######################################################\n",
    "#### Set this value to the directory of period-suite ##\n",
    "#######################################################\n",
    "pathToSuite=\"/Users/sertoez/git-projects/period-suite/\"\n",
    "#######################################################\n",
    "\n",
    "# if pathfinder is NOT called, then use this block\n",
    "\n",
    "from ore_algebra import *\n",
    "DOP, t, D = DifferentialOperators()\n",
    "periodsOnly=true; #unless overridden by input file\n",
    "paths=[]\n",
    "#load(\"~/git-projects/periods/integrate/data/current.sage\")\n",
    "load(pathToSuite+\"current.sage\")\n",
    "Q=len(allODEs);\n",
    "plotdata=[1..Q];\n",
    "allRoots=[1..Q];\n",
    "for i in [1..Q]:\n",
    "    if i == Q and periodsOnly:\n",
    "        deqs=[deq.numerator() for deq in allODEs[i-1][0:geometricGenus]];\n",
    "    else:\n",
    "        deqs=[deq.numerator() for deq in allODEs[i-1]];\n",
    "    roots=[];\n",
    "    for deq in deqs:\n",
    "        roots = roots + deq.leading_coefficient().numerator().complex_roots()\n",
    "    allRoots[i-1]=roots;\n",
    "    plotdata[i-1]=point2d([r for r in roots if abs(r) <= 2],pointsize=15,rgbcolor='blue')\n",
    "\n",
    "for i in [1..Q]:\n",
    "    if len(paths) != 0:\n",
    "        path=line([(real(pt),imag(pt)) for pt in paths[i-1]],color='red')\n",
    "    else:\n",
    "        path=line([(0,0),(1,0)],color='red')\n",
    "    picture=plotdata[i-1]+path\n",
    "    picture.show(frame=true,aspect_ratio=1,ymax=2,ymin=-2,xmax=2,xmin=-2)"
   ]
  },
  {
   "cell_type": "code",
   "execution_count": null,
   "metadata": {
    "collapsed": true,
    "deletable": true,
    "editable": true
   },
   "outputs": [],
   "source": []
  }
 ],
 "metadata": {
  "kernelspec": {
   "display_name": "SageMath 8.1",
   "language": "",
   "name": "sagemath"
  },
  "language_info": {
   "codemirror_mode": {
    "name": "ipython",
    "version": 2
   },
   "file_extension": ".py",
   "mimetype": "text/x-python",
   "name": "python",
   "nbconvert_exporter": "python",
   "pygments_lexer": "ipython2",
   "version": "2.7.14"
  }
 },
 "nbformat": 4,
 "nbformat_minor": 2
}
