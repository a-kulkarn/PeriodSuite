{
 "cells": [
  {
   "cell_type": "code",
   "execution_count": 20,
   "metadata": {
    "collapsed": false,
    "deletable": true,
    "editable": true,
    "scrolled": true
   },
   "outputs": [
    {
     "name": "stdout",
     "output_type": "stream",
     "text": [
      "Integrating systems 1 through 1\n",
      "\n",
      "Integrating system number 1\n",
      "\n"
     ]
    },
    {
     "ename": "KeyboardInterrupt",
     "evalue": "",
     "output_type": "error",
     "traceback": [
      "\u001b[0;31m---------------------------------------------------------------------------\u001b[0m",
      "\u001b[0;31mKeyboardInterrupt\u001b[0m                         Traceback (most recent call last)",
      "\u001b[0;32m<ipython-input-20-ee2ceb402165>\u001b[0m in \u001b[0;36m<module>\u001b[0;34m()\u001b[0m\n\u001b[1;32m     40\u001b[0m     \u001b[0;32mprint\u001b[0m \u001b[0;34m\"Integrating system number\"\u001b[0m\u001b[0;34m,\u001b[0m \u001b[0mj\u001b[0m\u001b[0;34m;\u001b[0m\u001b[0;34m\u001b[0m\u001b[0m\n\u001b[1;32m     41\u001b[0m     \u001b[0;32mprint\u001b[0m \u001b[0;34m\"\"\u001b[0m\u001b[0;34m;\u001b[0m\u001b[0;34m\u001b[0m\u001b[0m\n\u001b[0;32m---> 42\u001b[0;31m     \u001b[0mget_ipython\u001b[0m\u001b[0;34m(\u001b[0m\u001b[0;34m)\u001b[0m\u001b[0;34m.\u001b[0m\u001b[0mmagic\u001b[0m\u001b[0;34m(\u001b[0m\u001b[0;34mu'time transitionMatricies = [deqs[i-1].numerical_transition_matrix(paths[j-1], precision[j-1],assume_analytic=true) for i in [1..noOfdeqs]]'\u001b[0m\u001b[0;34m)\u001b[0m\u001b[0;34m\u001b[0m\u001b[0m\n\u001b[0m\u001b[1;32m     43\u001b[0m     \u001b[0mallTransMats\u001b[0m\u001b[0;34m[\u001b[0m\u001b[0mj\u001b[0m\u001b[0;34m-\u001b[0m\u001b[0mInteger\u001b[0m\u001b[0;34m(\u001b[0m\u001b[0;36m1\u001b[0m\u001b[0;34m)\u001b[0m\u001b[0;34m]\u001b[0m\u001b[0;34m=\u001b[0m\u001b[0mtransitionMatricies\u001b[0m\u001b[0;34m;\u001b[0m\u001b[0;34m\u001b[0m\u001b[0m\n\u001b[1;32m     44\u001b[0m     \u001b[0;32mprint\u001b[0m \u001b[0;34m\"Maximal error in transition matricies:\"\u001b[0m\u001b[0;34m\u001b[0m\u001b[0m\n",
      "\u001b[0;32m/Applications/SageMath/local/lib/python2.7/site-packages/IPython/core/interactiveshell.pyc\u001b[0m in \u001b[0;36mmagic\u001b[0;34m(self, arg_s)\u001b[0m\n\u001b[1;32m   2156\u001b[0m         \u001b[0mmagic_name\u001b[0m\u001b[0;34m,\u001b[0m \u001b[0m_\u001b[0m\u001b[0;34m,\u001b[0m \u001b[0mmagic_arg_s\u001b[0m \u001b[0;34m=\u001b[0m \u001b[0marg_s\u001b[0m\u001b[0;34m.\u001b[0m\u001b[0mpartition\u001b[0m\u001b[0;34m(\u001b[0m\u001b[0;34m' '\u001b[0m\u001b[0;34m)\u001b[0m\u001b[0;34m\u001b[0m\u001b[0m\n\u001b[1;32m   2157\u001b[0m         \u001b[0mmagic_name\u001b[0m \u001b[0;34m=\u001b[0m \u001b[0mmagic_name\u001b[0m\u001b[0;34m.\u001b[0m\u001b[0mlstrip\u001b[0m\u001b[0;34m(\u001b[0m\u001b[0mprefilter\u001b[0m\u001b[0;34m.\u001b[0m\u001b[0mESC_MAGIC\u001b[0m\u001b[0;34m)\u001b[0m\u001b[0;34m\u001b[0m\u001b[0m\n\u001b[0;32m-> 2158\u001b[0;31m         \u001b[0;32mreturn\u001b[0m \u001b[0mself\u001b[0m\u001b[0;34m.\u001b[0m\u001b[0mrun_line_magic\u001b[0m\u001b[0;34m(\u001b[0m\u001b[0mmagic_name\u001b[0m\u001b[0;34m,\u001b[0m \u001b[0mmagic_arg_s\u001b[0m\u001b[0;34m)\u001b[0m\u001b[0;34m\u001b[0m\u001b[0m\n\u001b[0m\u001b[1;32m   2159\u001b[0m \u001b[0;34m\u001b[0m\u001b[0m\n\u001b[1;32m   2160\u001b[0m     \u001b[0;31m#-------------------------------------------------------------------------\u001b[0m\u001b[0;34m\u001b[0m\u001b[0;34m\u001b[0m\u001b[0m\n",
      "\u001b[0;32m/Applications/SageMath/local/lib/python2.7/site-packages/IPython/core/interactiveshell.pyc\u001b[0m in \u001b[0;36mrun_line_magic\u001b[0;34m(self, magic_name, line)\u001b[0m\n\u001b[1;32m   2077\u001b[0m                 \u001b[0mkwargs\u001b[0m\u001b[0;34m[\u001b[0m\u001b[0;34m'local_ns'\u001b[0m\u001b[0;34m]\u001b[0m \u001b[0;34m=\u001b[0m \u001b[0msys\u001b[0m\u001b[0;34m.\u001b[0m\u001b[0m_getframe\u001b[0m\u001b[0;34m(\u001b[0m\u001b[0mstack_depth\u001b[0m\u001b[0;34m)\u001b[0m\u001b[0;34m.\u001b[0m\u001b[0mf_locals\u001b[0m\u001b[0;34m\u001b[0m\u001b[0m\n\u001b[1;32m   2078\u001b[0m             \u001b[0;32mwith\u001b[0m \u001b[0mself\u001b[0m\u001b[0;34m.\u001b[0m\u001b[0mbuiltin_trap\u001b[0m\u001b[0;34m:\u001b[0m\u001b[0;34m\u001b[0m\u001b[0m\n\u001b[0;32m-> 2079\u001b[0;31m                 \u001b[0mresult\u001b[0m \u001b[0;34m=\u001b[0m \u001b[0mfn\u001b[0m\u001b[0;34m(\u001b[0m\u001b[0;34m*\u001b[0m\u001b[0margs\u001b[0m\u001b[0;34m,\u001b[0m\u001b[0;34m**\u001b[0m\u001b[0mkwargs\u001b[0m\u001b[0;34m)\u001b[0m\u001b[0;34m\u001b[0m\u001b[0m\n\u001b[0m\u001b[1;32m   2080\u001b[0m             \u001b[0;32mreturn\u001b[0m \u001b[0mresult\u001b[0m\u001b[0;34m\u001b[0m\u001b[0m\n\u001b[1;32m   2081\u001b[0m \u001b[0;34m\u001b[0m\u001b[0m\n",
      "\u001b[0;32m<decorator-gen-59>\u001b[0m in \u001b[0;36mtime\u001b[0;34m(self, line, cell, local_ns)\u001b[0m\n",
      "\u001b[0;32m/Applications/SageMath/local/lib/python2.7/site-packages/IPython/core/magic.pyc\u001b[0m in \u001b[0;36m<lambda>\u001b[0;34m(f, *a, **k)\u001b[0m\n\u001b[1;32m    186\u001b[0m     \u001b[0;31m# but it's overkill for just that one bit of state.\u001b[0m\u001b[0;34m\u001b[0m\u001b[0;34m\u001b[0m\u001b[0m\n\u001b[1;32m    187\u001b[0m     \u001b[0;32mdef\u001b[0m \u001b[0mmagic_deco\u001b[0m\u001b[0;34m(\u001b[0m\u001b[0marg\u001b[0m\u001b[0;34m)\u001b[0m\u001b[0;34m:\u001b[0m\u001b[0;34m\u001b[0m\u001b[0m\n\u001b[0;32m--> 188\u001b[0;31m         \u001b[0mcall\u001b[0m \u001b[0;34m=\u001b[0m \u001b[0;32mlambda\u001b[0m \u001b[0mf\u001b[0m\u001b[0;34m,\u001b[0m \u001b[0;34m*\u001b[0m\u001b[0ma\u001b[0m\u001b[0;34m,\u001b[0m \u001b[0;34m**\u001b[0m\u001b[0mk\u001b[0m\u001b[0;34m:\u001b[0m \u001b[0mf\u001b[0m\u001b[0;34m(\u001b[0m\u001b[0;34m*\u001b[0m\u001b[0ma\u001b[0m\u001b[0;34m,\u001b[0m \u001b[0;34m**\u001b[0m\u001b[0mk\u001b[0m\u001b[0;34m)\u001b[0m\u001b[0;34m\u001b[0m\u001b[0m\n\u001b[0m\u001b[1;32m    189\u001b[0m \u001b[0;34m\u001b[0m\u001b[0m\n\u001b[1;32m    190\u001b[0m         \u001b[0;32mif\u001b[0m \u001b[0mcallable\u001b[0m\u001b[0;34m(\u001b[0m\u001b[0marg\u001b[0m\u001b[0;34m)\u001b[0m\u001b[0;34m:\u001b[0m\u001b[0;34m\u001b[0m\u001b[0m\n",
      "\u001b[0;32m/Applications/SageMath/local/lib/python2.7/site-packages/IPython/core/magics/execution.pyc\u001b[0m in \u001b[0;36mtime\u001b[0;34m(self, line, cell, local_ns)\u001b[0m\n\u001b[1;32m   1178\u001b[0m         \u001b[0;32melse\u001b[0m\u001b[0;34m:\u001b[0m\u001b[0;34m\u001b[0m\u001b[0m\n\u001b[1;32m   1179\u001b[0m             \u001b[0mst\u001b[0m \u001b[0;34m=\u001b[0m \u001b[0mclock2\u001b[0m\u001b[0;34m(\u001b[0m\u001b[0;34m)\u001b[0m\u001b[0;34m\u001b[0m\u001b[0m\n\u001b[0;32m-> 1180\u001b[0;31m             \u001b[0;32mexec\u001b[0m\u001b[0;34m(\u001b[0m\u001b[0mcode\u001b[0m\u001b[0;34m,\u001b[0m \u001b[0mglob\u001b[0m\u001b[0;34m,\u001b[0m \u001b[0mlocal_ns\u001b[0m\u001b[0;34m)\u001b[0m\u001b[0;34m\u001b[0m\u001b[0m\n\u001b[0m\u001b[1;32m   1181\u001b[0m             \u001b[0mend\u001b[0m \u001b[0;34m=\u001b[0m \u001b[0mclock2\u001b[0m\u001b[0;34m(\u001b[0m\u001b[0;34m)\u001b[0m\u001b[0;34m\u001b[0m\u001b[0m\n\u001b[1;32m   1182\u001b[0m             \u001b[0mout\u001b[0m \u001b[0;34m=\u001b[0m \u001b[0mNone\u001b[0m\u001b[0;34m\u001b[0m\u001b[0m\n",
      "\u001b[0;32m<timed exec>\u001b[0m in \u001b[0;36m<module>\u001b[0;34m()\u001b[0m\n",
      "\u001b[0;32m/Applications/SageMath/local/lib/python2.7/site-packages/ore_algebra/ore_operator_1_1.pyc\u001b[0m in \u001b[0;36mnumerical_transition_matrix\u001b[0;34m(self, path, eps, **kwds)\u001b[0m\n\u001b[1;32m   2510\u001b[0m             \u001b[0mNotImplementedError\u001b[0m\u001b[0;34m:\u001b[0m \u001b[0manalytic\u001b[0m \u001b[0mcontinuation\u001b[0m \u001b[0mthrough\u001b[0m \u001b[0mirregular\u001b[0m\u001b[0;34m\u001b[0m\u001b[0m\n\u001b[1;32m   2511\u001b[0m             \u001b[0msingular\u001b[0m \u001b[0mpoints\u001b[0m \u001b[0;32mis\u001b[0m \u001b[0;32mnot\u001b[0m \u001b[0msupported\u001b[0m\u001b[0;34m\u001b[0m\u001b[0m\n\u001b[0;32m-> 2512\u001b[0;31m \u001b[0;34m\u001b[0m\u001b[0m\n\u001b[0m\u001b[1;32m   2513\u001b[0m             \u001b[0msage\u001b[0m\u001b[0;34m:\u001b[0m \u001b[0;32mimport\u001b[0m \u001b[0mlogging\u001b[0m\u001b[0;34m;\u001b[0m \u001b[0mlogging\u001b[0m\u001b[0;34m.\u001b[0m\u001b[0mbasicConfig\u001b[0m\u001b[0;34m(\u001b[0m\u001b[0;34m)\u001b[0m\u001b[0;34m\u001b[0m\u001b[0m\n\u001b[1;32m   2514\u001b[0m             \u001b[0msage\u001b[0m\u001b[0;34m:\u001b[0m \u001b[0mlogger\u001b[0m \u001b[0;34m=\u001b[0m \u001b[0mlogging\u001b[0m\u001b[0;34m.\u001b[0m\u001b[0mgetLogger\u001b[0m\u001b[0;34m(\u001b[0m\u001b[0;34m'ore_algebra.analytic.binary_splitting'\u001b[0m\u001b[0;34m)\u001b[0m\u001b[0;34m\u001b[0m\u001b[0m\n",
      "\u001b[0;32m/Applications/SageMath/local/lib/python2.7/site-packages/ore_algebra/analytic/analytic_continuation.py\u001b[0m in \u001b[0;36manalytic_continuation\u001b[0;34m(ctx, ini, post)\u001b[0m\n\u001b[1;32m    207\u001b[0m     \u001b[0mstore_value_if_wanted\u001b[0m\u001b[0;34m(\u001b[0m\u001b[0mctx\u001b[0m\u001b[0;34m.\u001b[0m\u001b[0mpath\u001b[0m\u001b[0;34m.\u001b[0m\u001b[0mvert\u001b[0m\u001b[0;34m[\u001b[0m\u001b[0;36m0\u001b[0m\u001b[0;34m]\u001b[0m\u001b[0;34m)\u001b[0m\u001b[0;34m\u001b[0m\u001b[0m\n\u001b[1;32m    208\u001b[0m     \u001b[0;32mfor\u001b[0m \u001b[0mstep\u001b[0m \u001b[0;32min\u001b[0m \u001b[0mctx\u001b[0m\u001b[0;34m.\u001b[0m\u001b[0mpath\u001b[0m\u001b[0;34m:\u001b[0m\u001b[0;34m\u001b[0m\u001b[0m\n\u001b[0;32m--> 209\u001b[0;31m         \u001b[0mstep_mat\u001b[0m \u001b[0;34m=\u001b[0m \u001b[0mstep_transition_matrix\u001b[0m\u001b[0;34m(\u001b[0m\u001b[0mstep\u001b[0m\u001b[0;34m,\u001b[0m \u001b[0meps1\u001b[0m\u001b[0;34m,\u001b[0m \u001b[0mctx\u001b[0m\u001b[0;34m=\u001b[0m\u001b[0mctx\u001b[0m\u001b[0;34m)\u001b[0m\u001b[0;34m\u001b[0m\u001b[0m\n\u001b[0m\u001b[1;32m    210\u001b[0m         \u001b[0mpath_mat\u001b[0m \u001b[0;34m=\u001b[0m \u001b[0mstep_mat\u001b[0m\u001b[0;34m*\u001b[0m\u001b[0mpath_mat\u001b[0m\u001b[0;34m\u001b[0m\u001b[0m\n\u001b[1;32m    211\u001b[0m         \u001b[0mstore_value_if_wanted\u001b[0m\u001b[0;34m(\u001b[0m\u001b[0mstep\u001b[0m\u001b[0;34m.\u001b[0m\u001b[0mend\u001b[0m\u001b[0;34m)\u001b[0m\u001b[0;34m\u001b[0m\u001b[0m\n",
      "\u001b[0;32m/Applications/SageMath/local/lib/python2.7/site-packages/ore_algebra/analytic/analytic_continuation.py\u001b[0m in \u001b[0;36mstep_transition_matrix\u001b[0;34m(step, eps, rows, ctx, split, max_split)\u001b[0m\n\u001b[1;32m    156\u001b[0m         \u001b[0;32mraise\u001b[0m \u001b[0mTypeError\u001b[0m\u001b[0;34m(\u001b[0m\u001b[0mtype\u001b[0m\u001b[0;34m(\u001b[0m\u001b[0mz0\u001b[0m\u001b[0;34m)\u001b[0m\u001b[0;34m,\u001b[0m \u001b[0mtype\u001b[0m\u001b[0;34m(\u001b[0m\u001b[0mz1\u001b[0m\u001b[0;34m)\u001b[0m\u001b[0;34m)\u001b[0m\u001b[0;34m\u001b[0m\u001b[0m\n\u001b[1;32m    157\u001b[0m     \u001b[0;32mtry\u001b[0m\u001b[0;34m:\u001b[0m\u001b[0;34m\u001b[0m\u001b[0m\n\u001b[0;32m--> 158\u001b[0;31m         \u001b[0;32mreturn\u001b[0m \u001b[0mfun\u001b[0m\u001b[0;34m(\u001b[0m\u001b[0mdop\u001b[0m\u001b[0;34m,\u001b[0m \u001b[0mstep\u001b[0m\u001b[0;34m,\u001b[0m \u001b[0meps\u001b[0m\u001b[0;34m,\u001b[0m \u001b[0mrows\u001b[0m\u001b[0;34m,\u001b[0m \u001b[0mctx\u001b[0m\u001b[0;34m=\u001b[0m\u001b[0mctx\u001b[0m\u001b[0;34m,\u001b[0m \u001b[0mfail_fast\u001b[0m\u001b[0;34m=\u001b[0m\u001b[0;34m(\u001b[0m\u001b[0msplit\u001b[0m \u001b[0;34m<\u001b[0m \u001b[0mmax_split\u001b[0m\u001b[0;34m)\u001b[0m\u001b[0;34m)\u001b[0m\u001b[0;34m\u001b[0m\u001b[0m\n\u001b[0m\u001b[1;32m    159\u001b[0m     \u001b[0;32mexcept\u001b[0m \u001b[0;34m(\u001b[0m\u001b[0maccuracy\u001b[0m\u001b[0;34m.\u001b[0m\u001b[0mPrecisionError\u001b[0m\u001b[0;34m,\u001b[0m \u001b[0mbounds\u001b[0m\u001b[0;34m.\u001b[0m\u001b[0mBoundPrecisionError\u001b[0m\u001b[0;34m)\u001b[0m\u001b[0;34m:\u001b[0m\u001b[0;34m\u001b[0m\u001b[0m\n\u001b[1;32m    160\u001b[0m         \u001b[0;31m# XXX it would be nicer to return something in this case...\u001b[0m\u001b[0;34m\u001b[0m\u001b[0;34m\u001b[0m\u001b[0m\n",
      "\u001b[0;32m/Applications/SageMath/local/lib/python2.7/site-packages/ore_algebra/analytic/analytic_continuation.py\u001b[0m in \u001b[0;36mordinary_step_transition_matrix\u001b[0;34m(dop, step, eps, rows, fail_fast, ctx)\u001b[0m\n\u001b[1;32m    106\u001b[0m             \u001b[0;32mtry\u001b[0m\u001b[0;34m:\u001b[0m\u001b[0;34m\u001b[0m\u001b[0m\n\u001b[1;32m    107\u001b[0m                 return naive_sum.fundamental_matrix_ordinary(ldop, step.delta(),\n\u001b[0;32m--> 108\u001b[0;31m                         eps, rows, maj, fail_fast)\n\u001b[0m\u001b[1;32m    109\u001b[0m             \u001b[0;32mexcept\u001b[0m \u001b[0maccuracy\u001b[0m\u001b[0;34m.\u001b[0m\u001b[0mPrecisionError\u001b[0m\u001b[0;34m:\u001b[0m\u001b[0;34m\u001b[0m\u001b[0m\n\u001b[1;32m    110\u001b[0m                 \u001b[0;32mif\u001b[0m \u001b[0mfail_fast\u001b[0m\u001b[0;34m:\u001b[0m\u001b[0;34m\u001b[0m\u001b[0m\n",
      "\u001b[0;32m/Applications/SageMath/local/lib/python2.7/site-packages/ore_algebra/analytic/naive_sum.py\u001b[0m in \u001b[0;36mfundamental_matrix_ordinary\u001b[0;34m(dop, pt, eps, rows, maj, fail_fast)\u001b[0m\n\u001b[1;32m    381\u001b[0m                                     \u001b[0meps_col\u001b[0m\u001b[0;34m,\u001b[0m \u001b[0mmaj\u001b[0m\u001b[0;34m,\u001b[0m \u001b[0mbwrec\u001b[0m\u001b[0;34m,\u001b[0m \u001b[0mfail_fast\u001b[0m\u001b[0;34m,\u001b[0m\u001b[0;34m\u001b[0m\u001b[0m\n\u001b[1;32m    382\u001b[0m                                     max_prec=None, record_bounds_in=None)\n\u001b[0;32m--> 383\u001b[0;31m         for ini in inis]\n\u001b[0m\u001b[1;32m    384\u001b[0m     \u001b[0;32mreturn\u001b[0m \u001b[0mmatrix\u001b[0m\u001b[0;34m(\u001b[0m\u001b[0mcols\u001b[0m\u001b[0;34m)\u001b[0m\u001b[0;34m.\u001b[0m\u001b[0mtranspose\u001b[0m\u001b[0;34m(\u001b[0m\u001b[0;34m)\u001b[0m\u001b[0;34m\u001b[0m\u001b[0m\n\u001b[1;32m    385\u001b[0m \u001b[0;34m\u001b[0m\u001b[0m\n",
      "\u001b[0;32m/Applications/SageMath/local/lib/python2.7/site-packages/ore_algebra/analytic/naive_sum.py\u001b[0m in \u001b[0;36minterval_series_sum_wrapper\u001b[0;34m(doit, dop, ini, pt, tgt_error, maj, bwrec, fail_fast, max_prec, record_bounds_in, stride)\u001b[0m\n\u001b[1;32m    255\u001b[0m             \u001b[0;31m# point despite the higher bit_prec\u001b[0m\u001b[0;34m\u001b[0m\u001b[0;34m\u001b[0m\u001b[0m\n\u001b[1;32m    256\u001b[0m             psum = doit(ivs(bit_prec), dop, bwrec, ini, pt,\n\u001b[0;32m--> 257\u001b[0;31m                     tgt_error >> (4*attempt), maj, stride, record_bounds_in)\n\u001b[0m\u001b[1;32m    258\u001b[0m             \u001b[0merr\u001b[0m \u001b[0;34m=\u001b[0m \u001b[0mmax\u001b[0m\u001b[0;34m(\u001b[0m\u001b[0m_get_error\u001b[0m\u001b[0;34m(\u001b[0m\u001b[0mc\u001b[0m\u001b[0;34m)\u001b[0m \u001b[0;32mfor\u001b[0m \u001b[0mc\u001b[0m \u001b[0;32min\u001b[0m \u001b[0mpsum\u001b[0m\u001b[0;34m)\u001b[0m\u001b[0;34m\u001b[0m\u001b[0m\n\u001b[1;32m    259\u001b[0m             logger.debug(\"bit_prec=%s, err=%s (tgt=%s)\", bit_prec, err,\n",
      "\u001b[0;32m/Applications/SageMath/local/lib/python2.7/site-packages/ore_algebra/analytic/naive_sum.py\u001b[0m in \u001b[0;36mseries_sum_ordinary\u001b[0;34m(Intervals, dop, bwrec, ini, pt, tgt_error, maj, stride, record_bounds_in)\u001b[0m\n\u001b[1;32m    311\u001b[0m     bwrec_nplus = collections.deque(\n\u001b[1;32m    312\u001b[0m             \u001b[0;34m(\u001b[0m\u001b[0mbwrec_ev\u001b[0m\u001b[0;34m(\u001b[0m\u001b[0mstart\u001b[0m\u001b[0;34m+\u001b[0m\u001b[0mi\u001b[0m\u001b[0;34m)\u001b[0m \u001b[0;32mfor\u001b[0m \u001b[0mi\u001b[0m \u001b[0;32min\u001b[0m \u001b[0mxrange\u001b[0m\u001b[0;34m(\u001b[0m\u001b[0mordrec\u001b[0m\u001b[0;34m)\u001b[0m\u001b[0;34m)\u001b[0m\u001b[0;34m,\u001b[0m\u001b[0;34m\u001b[0m\u001b[0m\n\u001b[0;32m--> 313\u001b[0;31m             maxlen=ordrec)\n\u001b[0m\u001b[1;32m    314\u001b[0m \u001b[0;34m\u001b[0m\u001b[0m\n\u001b[1;32m    315\u001b[0m     stopping_criterion = accuracy.StoppingCriterion(\n",
      "\u001b[0;32m/Applications/SageMath/local/lib/python2.7/site-packages/ore_algebra/analytic/naive_sum.py\u001b[0m in \u001b[0;36m<genexpr>\u001b[0;34m((i,))\u001b[0m\n\u001b[1;32m    310\u001b[0m     \u001b[0mbwrec_ev\u001b[0m \u001b[0;34m=\u001b[0m \u001b[0mbwrec\u001b[0m\u001b[0;34m.\u001b[0m\u001b[0meval_method\u001b[0m\u001b[0;34m(\u001b[0m\u001b[0mIntervals\u001b[0m\u001b[0;34m)\u001b[0m\u001b[0;34m\u001b[0m\u001b[0m\n\u001b[1;32m    311\u001b[0m     bwrec_nplus = collections.deque(\n\u001b[0;32m--> 312\u001b[0;31m             \u001b[0;34m(\u001b[0m\u001b[0mbwrec_ev\u001b[0m\u001b[0;34m(\u001b[0m\u001b[0mstart\u001b[0m\u001b[0;34m+\u001b[0m\u001b[0mi\u001b[0m\u001b[0;34m)\u001b[0m \u001b[0;32mfor\u001b[0m \u001b[0mi\u001b[0m \u001b[0;32min\u001b[0m \u001b[0mxrange\u001b[0m\u001b[0;34m(\u001b[0m\u001b[0mordrec\u001b[0m\u001b[0;34m)\u001b[0m\u001b[0;34m)\u001b[0m\u001b[0;34m,\u001b[0m\u001b[0;34m\u001b[0m\u001b[0m\n\u001b[0m\u001b[1;32m    313\u001b[0m             maxlen=ordrec)\n\u001b[1;32m    314\u001b[0m \u001b[0;34m\u001b[0m\u001b[0m\n",
      "\u001b[0;32m/Applications/SageMath/local/lib/python2.7/site-packages/ore_algebra/analytic/local_solutions.py\u001b[0m in \u001b[0;36mev\u001b[0;34m(point)\u001b[0m\n\u001b[1;32m     77\u001b[0m             \u001b[0;32melse\u001b[0m\u001b[0;34m:\u001b[0m\u001b[0;34m\u001b[0m\u001b[0m\n\u001b[1;32m     78\u001b[0m                 \u001b[0;32mdef\u001b[0m \u001b[0mev\u001b[0m\u001b[0;34m(\u001b[0m\u001b[0mpoint\u001b[0m\u001b[0;34m)\u001b[0m\u001b[0;34m:\u001b[0m\u001b[0;34m\u001b[0m\u001b[0m\n\u001b[0;32m---> 79\u001b[0;31m                     \u001b[0;32mreturn\u001b[0m \u001b[0;34m[\u001b[0m\u001b[0mtgt\u001b[0m\u001b[0;34m(\u001b[0m\u001b[0mre\u001b[0m\u001b[0;34m(\u001b[0m\u001b[0mpoint\u001b[0m\u001b[0;34m)\u001b[0m\u001b[0;34m,\u001b[0m \u001b[0mim\u001b[0m\u001b[0;34m(\u001b[0m\u001b[0mpoint\u001b[0m\u001b[0;34m)\u001b[0m\u001b[0;34m)\u001b[0m \u001b[0;32mfor\u001b[0m \u001b[0mre\u001b[0m\u001b[0;34m,\u001b[0m \u001b[0mim\u001b[0m \u001b[0;32min\u001b[0m \u001b[0mre_im\u001b[0m\u001b[0;34m]\u001b[0m\u001b[0;34m\u001b[0m\u001b[0m\n\u001b[0m\u001b[1;32m     80\u001b[0m         \u001b[0;32melse\u001b[0m\u001b[0;34m:\u001b[0m\u001b[0;34m\u001b[0m\u001b[0m\n\u001b[1;32m     81\u001b[0m             \u001b[0;32mdef\u001b[0m \u001b[0mev\u001b[0m\u001b[0;34m(\u001b[0m\u001b[0mpoint\u001b[0m\u001b[0;34m)\u001b[0m\u001b[0;34m:\u001b[0m\u001b[0;34m\u001b[0m\u001b[0m\n",
      "\u001b[0;32m/Applications/SageMath/src/sage/rings/polynomial/polynomial_integer_dense_flint.pyx\u001b[0m in \u001b[0;36msage.rings.polynomial.polynomial_integer_dense_flint.Polynomial_integer_dense_flint.__call__ (build/cythonized/sage/rings/polynomial/polynomial_integer_dense_flint.cpp:7178)\u001b[0;34m()\u001b[0m\n\u001b[1;32m    428\u001b[0m                 \u001b[0mz\u001b[0m \u001b[0;34m=\u001b[0m \u001b[0mInteger\u001b[0m\u001b[0;34m.\u001b[0m\u001b[0m__new__\u001b[0m\u001b[0;34m(\u001b[0m\u001b[0mInteger\u001b[0m\u001b[0;34m)\u001b[0m\u001b[0;34m\u001b[0m\u001b[0m\n\u001b[1;32m    429\u001b[0m \u001b[0;34m\u001b[0m\u001b[0m\n\u001b[0;32m--> 430\u001b[0;31m                 \u001b[0msig_on\u001b[0m\u001b[0;34m(\u001b[0m\u001b[0;34m)\u001b[0m\u001b[0;34m\u001b[0m\u001b[0m\n\u001b[0m\u001b[1;32m    431\u001b[0m                 \u001b[0mfmpz_init\u001b[0m\u001b[0;34m(\u001b[0m\u001b[0ma_fmpz\u001b[0m\u001b[0;34m)\u001b[0m\u001b[0;34m\u001b[0m\u001b[0m\n\u001b[1;32m    432\u001b[0m                 \u001b[0mfmpz_init\u001b[0m\u001b[0;34m(\u001b[0m\u001b[0mz_fmpz\u001b[0m\u001b[0;34m)\u001b[0m\u001b[0;34m\u001b[0m\u001b[0m\n",
      "\u001b[0;32msrc/cysignals/signals.pyx\u001b[0m in \u001b[0;36mcysignals.signals.sig_raise_exception\u001b[0;34m()\u001b[0m\n",
      "\u001b[0;31mKeyboardInterrupt\u001b[0m: "
     ]
    }
   ],
   "source": [
    "import time\n",
    "from ore_algebra import *\n",
    "DOP, t, D = DifferentialOperators()\n",
    "# The following may be overridden in input file, but need not be specified there\n",
    "#\n",
    "#\n",
    "defaultPrecision=1e-40;\n",
    "# Do not forget to increase the precision of initial conditions if going beyond e-100\n",
    "#\n",
    "#\n",
    "#\n",
    "precision=[]; #if empty we will use the default precision for all systems\n",
    "periodsOnly=true; \n",
    "paths=[]; #unless overridden we will convert this to a list of straight paths\n",
    "\n",
    "#load(\"~/git-projects/periods/integrate/data/current.sage\")\n",
    "load(\"~/git-projects/period-suite/current.sage\")\n",
    "steps=len(allODEs);\n",
    "cohomologies=[];\n",
    "allTransMats=[1..steps];\n",
    "\n",
    "if len(paths)==0:\n",
    "    paths=[[0,1] for j in [1..steps]]\n",
    "    \n",
    "if len(precision)==0:\n",
    "    precision=[defaultPrecision for j in [1..steps]]\n",
    "\n",
    "\n",
    "t0=time.time();\n",
    "\n",
    "\n",
    "print \"Integrating systems\", 1, \"through\", steps;\n",
    "for j in [1..steps]:\n",
    "    if periodsOnly and j==steps:\n",
    "        noOfdeqs=geometricGenus;\n",
    "    else:\n",
    "        noOfdeqs=len(allODEs[j-1]);\n",
    "    deqs=[deq.numerator() for deq in allODEs[j-1][0:noOfdeqs]];\n",
    "    print \"\";\n",
    "    print \"Integrating system number\", j;\n",
    "    print \"\";\n",
    "    %time transitionMatricies = [deqs[i-1].numerical_transition_matrix(paths[j-1], precision[j-1],assume_analytic=true) for i in [1..noOfdeqs]]\n",
    "    allTransMats[j-1]=transitionMatricies;\n",
    "    print \"Maximal error in transition matricies:\"\n",
    "    print [max(tm.apply_map(lambda x : x.diameter()).list()) for tm in transitionMatricies]\n",
    "    print \"The largest error:\"\n",
    "    print max([max(tm.apply_map(lambda x : x.diameter()).list()) for tm in transitionMatricies])\n",
    "    cohomology=[1..noOfdeqs];\n",
    "    for i in [1..noOfdeqs]:\n",
    "        if j==1:\n",
    "            init=Matrix(inits[i-1]);\n",
    "            a = init.nrows(); b = init.ncols();\n",
    "            init =  MatrixSpace(ComplexBallField(2000), a, b)(init);\n",
    "        else:\n",
    "            init=Matrix(rawInits[j-2][i-1])*cohomologies[j-2];\n",
    "        transitionMatrix=transitionMatricies[i-1];\n",
    "        cohomology[i-1]=(transitionMatrix * init).row(0);\n",
    "    cohomologies=cohomologies+[Matrix(cohomology)];\n",
    "    \n",
    "periodsWithError=Matrix(cohomologies[-1].rows()[0:geometricGenus]);\n",
    "maximalError=max(periodsWithError.apply_map(lambda x : x.diameter()).list());\n",
    "periods=periodsWithError.apply_map(lambda x : x.mid());\n",
    "print \"\\nAccumulated maximal error:\", maximalError\n",
    "t1=time.time();\n",
    "print \"\\nIt took\", t1-t0, \"seconds in total.\\n\"\n",
    "print periods\n"
   ]
  },
  {
   "cell_type": "code",
   "execution_count": 11,
   "metadata": {
    "collapsed": false,
    "deletable": true,
    "editable": true
   },
   "outputs": [
    {
     "name": "stdout",
     "output_type": "stream",
     "text": [
      "\n",
      "Picard rank appears to be 15 \n",
      "\n",
      "Check to see if this makes sense:\n",
      "\n",
      "01 || ---hyperplane section---\n",
      "02 || 21.0237960416286 (16703008872482861189850114587503230707834195288018651362691756493141468950560768, 4631683569492647816942839400347516314130799386625622561578303360316525185597440)\n",
      "03 || 34.8425027803687 (133392486801388257127953774730008469846967022334817929773455136777115925345206272, 255668933035994159495244734899182900540020126141734365399122345489472190244978688)\n",
      "04 || 36.6333181680284 (37053468555941182535542715202780130513046395093004980492626426882532201484779520, 88001987820360308521913948606602809968485188345886828669987763846013978526351360)\n",
      "05 || 43.5660418215839 (3357970587882169667283558565251949327744829555303576357144269936229480759558144, -24084754561361768648102764881807084833480156810453237320207177473645930965106688)\n",
      "06 || 377.695644666443 (-668844055457047673815401902156433527737450748924906308032916869625708215082680320, -332554880289572113256495868944951671354591395959719699921322181270726508325896192)\n",
      "07 || 382.872041287948 (-1168747452716851018507813737185191397916980590222643033132265124183871174020694016, 728100657124244236823414353734629564581361663577547866680109288241757759175917568)\n",
      "08 || 400.194952491907 (109336680262335817528706902594453556990450183020531102594257823699471972662509568, -1883242539355710602368958500181300133325583030601978133537738146304699140463919104)\n",
      "09 || 409.992682861536 (-754703889626517632721979787540375611410650442554478786268174668167575800710692864, -36127131842042652972154147322710627250220235215679855980310766210468896447660032)\n",
      "10 || 449.772164545562 (-664328163976792342193882633741094699331173219522946326035378023849399603026722816, -1617383902466832617676439518601352696894475145809667398503143533422530594810626048)\n",
      "11 || 521.184228464369 (-1109172422804251835962386465398221469326473183112170962933964197211799868820946944, -420556868109932421778409817551554481323076584305606528591309945116740486852247552)\n",
      "12 || 462.243442354783 (756527615032005362799901030554262445959339444812962625151796125115700432502521856, 3486731391114065276594569500581610281277665778251768664356146769646280159717752832)\n",
      "13 || 547.129783506619 (-1573961869002839044392600399223094731449498901560052186988346939419563171195650048, -3068953533145828443506325386670264309743067673578137509301783806545729587976863744)\n",
      "14 || 551.161500832560 (-770712145963576596739288476217826714671365017934503594246629679156669790883414016, 1920296007911651784904501215384080263838629425694983114030364573187231341948698624)\n",
      "15 || 1.88241535946931e13 (-15198907878189629062787868251953735356866577267181473754464716270054365633384828386983018496, 15526591691339164964121277584837133106092660630435720198636559370557425153250493324620464128)\n",
      "16 || 1.35106167094886e14 (837655268200578701186766293554534139630482453928251924387236557281997253576114991145534095360, -528497677879267878471645222901494173690495100377340116744901913141120381127396098325730033664)\n",
      "17 || 1.44971132172350e14 (531638394250841409268207322895652633389601280015517296796493567032812086276306784262591348736, 104731393517307125811648147018378131877178780522044993580628198750031645951819168493384761344)\n",
      "18 || 7.16224465044798e14 (411061073181131478151481756150372645872789920622495085165102003386007706492290978237701423104, -998231967430253268963465029023549458454170522426702363824849991307173128403678413691297988608)\n",
      "19 || 8.90777247783345e14 (-839635857309881199510170964208563739303423257966038441637121593388781272739705340262017400832, 2429712434846505597160426769462423436688672459724967552012130322917987772110378534689746976768)\n",
      "20 || 1.09067472360268e15 (-1833354612315790021126966628575026892502817176986555241303487669627560290598428076801116864512, 207205907361182047264579550857320201989005350303036567140030403651626307054506836018012880896)\n",
      "21 || 3.46702170483539e14 (469854802289708435318023973810306226751357669071765964177481687220511435139034433488657842176, -413958958861887916674232604390607001851324179963399724738445602064349483023713300463099052032)\n",
      "22 || 25.6515106767613 (66551503289147483319697423633743375038666923686576914181678246408548071260553216, 135245160229185316254730910490147476372619342089468178798086458121242535419445248)\n"
     ]
    }
   ],
   "source": [
    "#### Only for K3s\n",
    "##\n",
    "## Try a few values for \"scale\", do not exceed the negative exponent of accumulated error\n",
    "##\n",
    "scale = 20\n",
    "##\n",
    "## verify that you found honest relations by checking suspected relations using more digits\n",
    "##\n",
    "verify= 120\n",
    "##\n",
    "##\n",
    "\n",
    "load(\"K3_intersection_matrix.sage\")\n",
    "\n",
    "periodVector=periods*intersectionMatrix.inverse()\n",
    "u1 = periodVector.apply_map(real)[0].list()\n",
    "u2 = periodVector.apply_map(imag)[0].list()\n",
    "M = matrix([u1,u2])\n",
    "\n",
    "proj = M.transpose()\n",
    "Proj = (10^scale*proj).apply_map(lambda x : 10^3*x.round())\n",
    "lattice = block_matrix([[Proj, matrix.identity(Proj.dimensions()[0])]])\n",
    "reducedLattice = lattice.LLL()\n",
    "\n",
    "Proj2 = (10^verify*proj).apply_map(lambda x : x.round())\n",
    "testRelations = [v[2:23] * Proj2 for v in reducedLattice.rows()]\n",
    "\n",
    "norms1 = [reducedLattice.row(i)[2:23].norm().n() for i in [0..20]]\n",
    "norms2 = [testRelations[i].norm().n()+reducedLattice.row(i)[2:23].norm().n() for i in [0..20]]\n",
    "\n",
    "norms=norms1\n",
    "\n",
    "sortedNorms=sorted(norms)\n",
    "consecutiveRatios = [sortedNorms[i]/sortedNorms[i-1] for i in [1..20]]\n",
    "\n",
    "j=0; rank=1;\n",
    "while j <= 19 :\n",
    "    if consecutiveRatios[j] > 100 :\n",
    "        j=20\n",
    "    rank = rank + 1\n",
    "    j=j+1\n",
    "    \n",
    "if sortedNorms[0] > 50 :\n",
    "    rank = 1\n",
    "\n",
    "print \"\\nPicard rank appears to be\", rank, \"\\n\"\n",
    "print \"Check to see if this makes sense:\\n\"\n",
    "\n",
    "print \"01\",\"||\", \"---hyperplane section---\"\n",
    "j=0\n",
    "while j <= 7 :\n",
    "    print \"0\" + str(j+2), \"||\", norms[j], testRelations[j]\n",
    "    j=j+1\n",
    "while j <= 20 :\n",
    "    print j+2, \"||\", norms[j], testRelations[j]\n",
    "    j=j+1\n"
   ]
  },
  {
   "cell_type": "code",
   "execution_count": 10,
   "metadata": {
    "collapsed": false,
    "deletable": true,
    "editable": true
   },
   "outputs": [
    {
     "data": {
      "text/plain": [
       "1"
      ]
     },
     "execution_count": 10,
     "metadata": {},
     "output_type": "execute_result"
    }
   ],
   "source": [
    "periods.nrows()"
   ]
  },
  {
   "cell_type": "code",
   "execution_count": null,
   "metadata": {
    "collapsed": true
   },
   "outputs": [],
   "source": []
  }
 ],
 "metadata": {
  "kernelspec": {
   "display_name": "SageMath 8.1",
   "language": "",
   "name": "sagemath"
  }
 },
 "nbformat": 4,
 "nbformat_minor": 2
}
