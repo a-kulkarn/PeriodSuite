{
 "cells": [
  {
   "cell_type": "code",
   "execution_count": 1,
   "metadata": {
    "collapsed": false,
    "deletable": true,
    "editable": true,
    "scrolled": true
   },
   "outputs": [
    {
     "name": "stdout",
     "output_type": "stream",
     "text": [
      "Integrating systems 1 through 5\n",
      "\n",
      "Integrating system number 1\n",
      "\n",
      "CPU times: user 14.7 s, sys: 235 ms, total: 14.9 s\n",
      "Wall time: 14.8 s\n",
      "Maximal error in transition matricies:\n",
      "[1.1148523e-42, 2.7313543e-41, 2.7313543e-41, 1.9775127e-42, 2.7313543e-41, 1.9775127e-42, 6.9664383e-42, 6.4651261e-42, 4.5861380e-42, 6.4651261e-42, 4.5861380e-42, 1.8597171e-41, 4.5861380e-42, 1.8597171e-41, 1.1148523e-42, 9.6978550e-42, 1.3269963e-41, 9.6978550e-42, 1.3269963e-41, 1.3269963e-41, 6.9664383e-42]\n",
      "\n",
      "Integrating system number 2\n",
      "\n",
      "CPU times: user 604 ms, sys: 35.3 ms, total: 639 ms\n",
      "Wall time: 613 ms\n",
      "Maximal error in transition matricies:\n",
      "[1.2452203e-47, 1.3202322e-43, 1.6692524e-44, 1.6692524e-44, 3.3300315e-44, 3.3300315e-44, 3.3300315e-44, 3.9297500e-47, 3.0418406e-44, 3.9297500e-47, 3.0418406e-44, 1.7317783e-46, 3.0418406e-44, 1.7317783e-46, 1.2452203e-47, 2.9343524e-47, 2.9950129e-44, 2.9343524e-47, 2.9950129e-44, 2.9950129e-44, 1.3202322e-43]\n",
      "\n",
      "Integrating system number 3\n",
      "\n",
      "CPU times: user 3.07 s, sys: 138 ms, total: 3.21 s\n",
      "Wall time: 3.11 s\n",
      "Maximal error in transition matricies:\n",
      "[6.1673104e-42, 7.9804721e-44, 1.7366070e-47, 1.7366070e-47, 7.1636721e-42, 7.1636721e-42, 7.1636721e-42, 2.3966575e-43, 1.1223845e-42, 2.3966575e-43, 1.1223845e-42, 5.5969417e-42, 1.1223845e-42, 5.5969417e-42, 6.1673104e-42, 9.9380224e-44, 4.1935894e-43, 9.9380224e-44, 4.1935894e-43, 4.1935894e-43, 7.9804721e-44]\n",
      "\n",
      "Integrating system number 4\n",
      "\n",
      "CPU times: user 1.19 s, sys: 49.2 ms, total: 1.24 s\n",
      "Wall time: 1.21 s\n",
      "Maximal error in transition matricies:\n",
      "[5.5681756e-43, 6.3538073e-49, 1.2203367e-62, 1.2203367e-62, 2.5509044e-42, 2.5509044e-42, 4.7439233e-42, 2.5509044e-42, 4.7439233e-42, 5.5667324e-43, 5.6627098e-43, 5.5667324e-43, 5.6627098e-43, 5.6627098e-43, 5.5681756e-43, 5.5801360e-43, 5.6728972e-43, 5.5801360e-43, 5.6728972e-43, 5.6728972e-43, 6.3538073e-49]\n",
      "\n",
      "Integrating system number 5\n",
      "\n",
      "CPU times: user 145 ms, sys: 15.4 ms, total: 160 ms\n",
      "Wall time: 149 ms\n",
      "Maximal error in transition matricies:\n",
      "[2.2020164e-41]\n",
      "\n",
      "Accumulated maximal error: 7.6286291e-38\n",
      "\n",
      "It took 20.4078230858 seconds in total.\n",
      "\n",
      "[ 0.5237371270542455763055429156555410387636 - 0.04957893295865838363684848751535732391191*I  0.04957893295865838286391200154677876933301 + 0.5237371270542455754504597552547388703589*I  -0.1295267373855583243702770698800860386441 + 0.3446314567100288682234987027508796002544*I   0.2950525237513704871325622474998100323969 + 0.6532638644398038964046038845825076718453*I -0.5237371270542455754490159163153978677009 + 0.04957893295865838286350784230468195110147*I  -0.3446314567100288682238173645674454039378 - 0.1295267373855583243714566499062073307933*I  -0.6532638644398038964047920747095008562709 + 0.2950525237513704871320527703833146303295*I -0.5237371270542455754487167528064145350242 + 0.04957893295865838286356808294234778360460*I  -0.2950525237513704819361989676062376383105 + 0.6532638644398039015851995495234022606577*I  -0.3446314567100288729324851136796712579293 - 0.1295267373855583282633920149537408679751*I   0.1295267373855583243504389299617924531421 - 0.3446314567100288682280525414297265851825*I  -0.2950525237513704879262134390687515282515 - 0.6532638644398038964147471032374818304539*I -0.04957893295865838288421009645204643124129 - 0.5237371270542455754541200932587206927464*I  -0.6532638644398039023791146461340464768476 - 0.2950525237513704819445315524905967136121*I   0.1295267373855583282427500014440422203384 - 0.3446314567100288720869428085688723522343*I  -0.2950525237513704879267214648424965219221 - 0.6532638644398038964162198785469899047742*I -0.04957893295865837899723915807215292957129 - 0.5237371270542455793140661823189223349692*I  0.5237371270542455754522371718952155783561 - 0.04957893295865838288500030214409965565723*I   0.2950525237513704819445315524905967136121 - 0.6532638644398039023791146461340464768476*I   0.3446314567100288720749928683419380730098 + 0.1295267373855583282962435555533330749380*I   0.6532638644398038964162198785469899047742 - 0.2950525237513704879267214648424965219221*I]\n"
     ]
    }
   ],
   "source": [
    "import time\n",
    "from ore_algebra import *\n",
    "DOP, t, D = DifferentialOperators()\n",
    "\n",
    "# These may be overridden in input file, but need not be specified there\n",
    "periodsOnly=true; \n",
    "paths=[]; #unless overridden we will convert this to a list of straight paths\n",
    "defaultPrecision=1e-40;\n",
    "precision=[]; #if empty we will use the default precision for all systems\n",
    "\n",
    "#load(\"~/git-projects/periods/integrate/data/current.sage\")\n",
    "load(\"~/git-projects/period-suite/current.sage\")\n",
    "steps=len(allODEs);\n",
    "cohomologies=[];\n",
    "allTransMats=[1..steps];\n",
    "\n",
    "if len(paths)==0:\n",
    "    paths=[[0,1] for j in [1..steps]]\n",
    "    \n",
    "if len(precision)==0:\n",
    "    precision=[defaultPrecision for j in [1..steps]]\n",
    "\n",
    "\n",
    "t0=time.time();\n",
    "\n",
    "\n",
    "print \"Integrating systems\", 1, \"through\", steps;\n",
    "for j in [1..steps]:\n",
    "    if periodsOnly and j==steps:\n",
    "        noOfdeqs=geometricGenus;\n",
    "    else:\n",
    "        noOfdeqs=len(allODEs[j-1]);\n",
    "    deqs=[deq.numerator() for deq in allODEs[j-1][0:noOfdeqs]];\n",
    "    print \"\";\n",
    "    print \"Integrating system number\", j;\n",
    "    print \"\";\n",
    "    %time transitionMatricies = [deqs[i-1].numerical_transition_matrix(paths[j-1], precision[j-1],assume_analytic=true) for i in [1..noOfdeqs]]\n",
    "    allTransMats[j-1]=transitionMatricies;\n",
    "    print \"Maximal error in transition matricies:\"\n",
    "    print [max(tm.apply_map(lambda x : x.diameter()).list()) for tm in transitionMatricies]\n",
    "    cohomology=[1..noOfdeqs];\n",
    "    for i in [1..noOfdeqs]:\n",
    "        if j==1:\n",
    "            init=Matrix(inits[i-1]);\n",
    "            a = init.nrows(); b = init.ncols();\n",
    "            init =  MatrixSpace(ComplexBallField(300), a, b)(init);\n",
    "        else:\n",
    "            init=Matrix(rawInits[j-2][i-1])*cohomologies[j-2];\n",
    "        transitionMatrix=transitionMatricies[i-1];\n",
    "        cohomology[i-1]=(transitionMatrix * init).row(0);\n",
    "    cohomologies=cohomologies+[Matrix(cohomology)];\n",
    "    \n",
    "periodsWithError=Matrix(cohomologies[-1].rows()[0:geometricGenus]);\n",
    "maximalError=max(periodsWithError.apply_map(lambda x : x.diameter()).list());\n",
    "periods=periodsWithError.apply_map(lambda x : x.mid());\n",
    "print \"\\nAccumulated maximal error:\", maximalError\n",
    "t1=time.time();\n",
    "print \"\\nIt took\", t1-t0, \"seconds in total.\\n\"\n",
    "print periods\n"
   ]
  },
  {
   "cell_type": "code",
   "execution_count": 26,
   "metadata": {
    "collapsed": false,
    "deletable": true,
    "editable": true
   },
   "outputs": [
    {
     "data": {
      "text/plain": [
       "1"
      ]
     },
     "execution_count": 26,
     "metadata": {},
     "output_type": "execute_result"
    }
   ],
   "source": [
    "# Only for K3s\n",
    "##\n",
    "## Try a few values for \"scale\", do not exceed the negative exponent of accumulated error\n",
    "##\n",
    "scale = 30\n",
    "##\n",
    "##\n",
    "periodVector=periods\n",
    "u1 = periodVector.apply_map(real)[0].list()\n",
    "u2 = periodVector.apply_map(imag)[0].list()\n",
    "M = matrix([u1,u2])\n",
    "#M = matrix([u1,u2])\n",
    "#proj = (M.pseudoinverse() * M)\n",
    "proj = M.transpose()\n",
    "lattice = block_matrix([[(10^scale*proj).apply_map(lambda x : x.round()), matrix.identity(proj.dimensions()[0])]])\n",
    "generatorNorms = [r.norm().n() for r in lattice.LLL().rows()]\n",
    "consecutiveRatios = [generatorNorms[i]/generatorNorms[i-1] for i in [1..20]]\n",
    "\n",
    "j=0; rank=1;\n",
    "while j <= 19 :\n",
    "    if consecutiveRatios[j] > 100 :\n",
    "        j=20\n",
    "    rank = rank + 1\n",
    "    j=j+1\n",
    "    \n",
    "if generatorNorms[0] > 50 :\n",
    "    rank = 1\n",
    "\n",
    "rank"
   ]
  },
  {
   "cell_type": "code",
   "execution_count": 24,
   "metadata": {
    "collapsed": false,
    "deletable": true,
    "editable": true
   },
   "outputs": [
    {
     "data": {
      "text/plain": [
       "[95.6660859448112,\n",
       " 112.414411887444,\n",
       " 115.602768132947,\n",
       " 114.878196364671,\n",
       " 135.558105622644,\n",
       " 129.560796539694,\n",
       " 130.518197964882,\n",
       " 120.029163122968,\n",
       " 121.453694879983,\n",
       " 119.436175424366,\n",
       " 134.420980505277,\n",
       " 116.331423097975,\n",
       " 130.326513035529,\n",
       " 139.799856938410,\n",
       " 140.110670542968,\n",
       " 275646.804799185,\n",
       " 280777.409953151,\n",
       " 301846.503120377,\n",
       " 300805.275071765,\n",
       " 341003.930735410,\n",
       " 336794.857582476]"
      ]
     },
     "execution_count": 24,
     "metadata": {},
     "output_type": "execute_result"
    }
   ],
   "source": [
    "generatorNorms"
   ]
  },
  {
   "cell_type": "code",
   "execution_count": 25,
   "metadata": {
    "collapsed": false,
    "deletable": true,
    "editable": true
   },
   "outputs": [
    {
     "data": {
      "text/plain": [
       "(7, 5, -32, -15, 28, -6, -41, 37, 1, -20, -24, -4, 4, -29, 1, 20, 26, 3, -18, 11, -23, -7, 0)"
      ]
     },
     "execution_count": 25,
     "metadata": {},
     "output_type": "execute_result"
    }
   ],
   "source": [
    "lattice.LLL().row(0)"
   ]
  },
  {
   "cell_type": "code",
   "execution_count": null,
   "metadata": {
    "collapsed": true,
    "deletable": true,
    "editable": true
   },
   "outputs": [],
   "source": []
  }
 ],
 "metadata": {
  "kernelspec": {
   "display_name": "SageMath 8.1",
   "language": "",
   "name": "sagemath"
  },
  "language_info": {
   "codemirror_mode": {
    "name": "ipython",
    "version": 2
   },
   "file_extension": ".py",
   "mimetype": "text/x-python",
   "name": "python",
   "nbconvert_exporter": "python",
   "pygments_lexer": "ipython2",
   "version": "2.7.14"
  }
 },
 "nbformat": 4,
 "nbformat_minor": 2
}
