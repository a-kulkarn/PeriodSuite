{
 "cells": [
  {
   "cell_type": "code",
   "execution_count": null,
   "metadata": {
    "collapsed": false,
    "deletable": true,
    "editable": true,
    "scrolled": true
   },
   "outputs": [
    {
     "name": "stdout",
     "output_type": "stream",
     "text": [
      "Integrating systems 1 through 3\n",
      "\n",
      "Integrating system number 1\n",
      "\n",
      "CPU times: user 2.42 s, sys: 198 ms, total: 2.62 s\n",
      "Wall time: 4.6 s\n",
      "Maximal error in transition matricies:\n",
      "[1.3369889e-92, 1.5598216e-112, 1.5598216e-112, 3.6682862e-111, 1.5598216e-112, 3.6682862e-111, 9.9345915e-111, 7.1763620e-93, 1.1640620e-111, 7.1763620e-93, 1.1640620e-111, 2.6131978e-91, 1.1640620e-111, 2.6131978e-91, 1.3369889e-92, 5.6788872e-92, 1.0952692e-111, 5.6788872e-92, 1.0952692e-111, 1.0952692e-111, 9.9345915e-111]\n",
      "\n",
      "Integrating system number 2\n",
      "\n"
     ]
    }
   ],
   "source": [
    "import time\n",
    "from ore_algebra import *\n",
    "DOP, t, D = DifferentialOperators()\n",
    "# The following may be overridden in input file, but need not be specified there\n",
    "#\n",
    "#\n",
    "defaultPrecision=1e-90;\n",
    "# Do not forget to increase the precision of initial conditions if going beyond e-100\n",
    "#\n",
    "#\n",
    "#\n",
    "precision=[]; #if empty we will use the default precision for all systems\n",
    "periodsOnly=true; \n",
    "paths=[]; #unless overridden we will convert this to a list of straight paths\n",
    "\n",
    "#load(\"~/git-projects/periods/integrate/data/current.sage\")\n",
    "load(\"~/git-projects/period-suite/current.sage\")\n",
    "steps=len(allODEs);\n",
    "cohomologies=[];\n",
    "allTransMats=[1..steps];\n",
    "\n",
    "if len(paths)==0:\n",
    "    paths=[[0,1] for j in [1..steps]]\n",
    "    \n",
    "if len(precision)==0:\n",
    "    precision=[defaultPrecision for j in [1..steps]]\n",
    "\n",
    "\n",
    "t0=time.time();\n",
    "\n",
    "\n",
    "print \"Integrating systems\", 1, \"through\", steps;\n",
    "for j in [1..steps]:\n",
    "    if periodsOnly and j==steps:\n",
    "        noOfdeqs=geometricGenus;\n",
    "    else:\n",
    "        noOfdeqs=len(allODEs[j-1]);\n",
    "    deqs=[deq.numerator() for deq in allODEs[j-1][0:noOfdeqs]];\n",
    "    print \"\";\n",
    "    print \"Integrating system number\", j;\n",
    "    print \"\";\n",
    "    %time transitionMatricies = [deqs[i-1].numerical_transition_matrix(paths[j-1], precision[j-1],assume_analytic=true) for i in [1..noOfdeqs]]\n",
    "    allTransMats[j-1]=transitionMatricies;\n",
    "    print \"Maximal error in transition matricies:\"\n",
    "    print [max(tm.apply_map(lambda x : x.diameter()).list()) for tm in transitionMatricies]\n",
    "    cohomology=[1..noOfdeqs];\n",
    "    for i in [1..noOfdeqs]:\n",
    "        if j==1:\n",
    "            init=Matrix(inits[i-1]);\n",
    "            a = init.nrows(); b = init.ncols();\n",
    "            init =  MatrixSpace(ComplexBallField(300), a, b)(init);\n",
    "        else:\n",
    "            init=Matrix(rawInits[j-2][i-1])*cohomologies[j-2];\n",
    "        transitionMatrix=transitionMatricies[i-1];\n",
    "        cohomology[i-1]=(transitionMatrix * init).row(0);\n",
    "    cohomologies=cohomologies+[Matrix(cohomology)];\n",
    "    \n",
    "periodsWithError=Matrix(cohomologies[-1].rows()[0:geometricGenus]);\n",
    "maximalError=max(periodsWithError.apply_map(lambda x : x.diameter()).list());\n",
    "periods=periodsWithError.apply_map(lambda x : x.mid());\n",
    "print \"\\nAccumulated maximal error:\", maximalError\n",
    "t1=time.time();\n",
    "print \"\\nIt took\", t1-t0, \"seconds in total.\\n\"\n",
    "print periods\n"
   ]
  },
  {
   "cell_type": "code",
   "execution_count": 11,
   "metadata": {
    "collapsed": false,
    "deletable": true,
    "editable": true
   },
   "outputs": [
    {
     "name": "stdout",
     "output_type": "stream",
     "text": [
      "\n",
      "Picard rank appears to be 12 \n",
      "\n",
      "Check to see if this makes sense:\n",
      "\n",
      "01 || ---hyperplane section---\n",
      "02 || 1.41421356237310 (0, 0)\n",
      "03 || 1.41421356237310 (0, 0)\n",
      "04 || 1.41421356237310 (0, 0)\n",
      "05 || 1.41421356237310 (0, 0)\n",
      "06 || 1.41421356237310 (0, 0)\n",
      "07 || 1.41421356237310 (0, 0)\n",
      "08 || 1.41421356237310 (0, 0)\n",
      "09 || 1.41421356237310 (0, 0)\n",
      "10 || 1.41421356237310 (0, 0)\n",
      "11 || 1.41421356237310 (0, 0)\n",
      "12 || 3.00000000000000 (-1, 0)\n",
      "13 || 4.48756303648148e29 (43106058976972578915698991241, 446681192511418411437281657786)\n",
      "14 || 8.81044165546021e29 (776128196175714374339425891791, 416969836731287631016139212513)\n",
      "15 || 1.87556168770473e30 (1783996987501353175744882234827, 578866472489034490210606069192)\n",
      "16 || 2.09430162768391e30 (-816795650971381230591288876269, 1928456422186856665081014380284)\n",
      "17 || 1.47657163386534e35 (145644051021262107170629604538899114, 24299141990484244099741844766288658)\n",
      "18 || 3.98818455145976e34 (39679109239138088465783033853637511, 4016203635123421170332022734894440)\n",
      "19 || 1.26445344840544e35 (11726093709579300699557121641728575, -125900452573285858788479413109296951)\n",
      "20 || 9.45949388497022e34 (-6408125178734946425769520114991667, 94377637116387652879027184774366706)\n",
      "21 || 3.87387311985742e34 (29144837350035067483575942829888011, 25519948093900661890211924139733951)\n",
      "22 || 8.75985143949755e34 (-85235965074964220628029357910163966, -20207176496141532564175840795676240)\n"
     ]
    }
   ],
   "source": [
    "# Only for K3s\n",
    "##\n",
    "## Try a few values for \"scale\", do not exceed the negative exponent of accumulated error\n",
    "##\n",
    "scale = 40\n",
    "##\n",
    "## verify that you found honest relations by checking suspected relations using more digits\n",
    "##\n",
    "verify= 65\n",
    "##\n",
    "##\n",
    "\n",
    "periodVector=periods\n",
    "u1 = periodVector.apply_map(real)[0].list()\n",
    "u2 = periodVector.apply_map(imag)[0].list()\n",
    "M = matrix([u1,u2])\n",
    "\n",
    "proj = M.transpose()\n",
    "Proj = (10^scale*proj).apply_map(lambda x : 10^3*x.round())\n",
    "lattice = block_matrix([[Proj, matrix.identity(Proj.dimensions()[0])]])\n",
    "reducedLattice = lattice.LLL()\n",
    "\n",
    "Proj2 = (10^verify*proj).apply_map(lambda x : x.round())\n",
    "testRelations = [v[2:23] * Proj2 for v in reducedLattice.rows()]\n",
    "\n",
    "norms = [testRelations[i].norm().n()+reducedLattice.row(i)[2:23].norm().n() for i in [0..20]]\n",
    "\n",
    "\n",
    "sortedNorms=sorted(norms)\n",
    "consecutiveRatios = [sortedNorms[i]/sortedNorms[i-1] for i in [1..20]]\n",
    "j=0; rank=1;\n",
    "while j <= 19 :\n",
    "    if consecutiveRatios[j] > 100 :\n",
    "        j=20\n",
    "    rank = rank + 1\n",
    "    j=j+1\n",
    "    \n",
    "if norms[0] > 50 :\n",
    "    rank = 1\n",
    "\n",
    "print \"\\nPicard rank appears to be\", rank, \"\\n\"\n",
    "print \"Check to see if this makes sense:\\n\"\n",
    "\n",
    "print \"01\",\"||\", \"---hyperplane section---\"\n",
    "j=0\n",
    "while j <= 7 :\n",
    "    print \"0\" + str(j+2), \"||\", norms[j], testRelations[j]\n",
    "    j=j+1\n",
    "while j <= 20 :\n",
    "    print j+2, \"||\", norms[j], testRelations[j]\n",
    "    j=j+1"
   ]
  },
  {
   "cell_type": "code",
   "execution_count": 47,
   "metadata": {
    "collapsed": false,
    "deletable": true,
    "editable": true
   },
   "outputs": [
    {
     "data": {
      "text/plain": [
       "(0, 0, 0, 0, 0, 0, 0, 0, 1, 0, 0, 0, 0, 0, 0, 0, 0, 0, 0, 0, 0, 0, 1)"
      ]
     },
     "execution_count": 47,
     "metadata": {},
     "output_type": "execute_result"
    }
   ],
   "source": [
    "reducedLattice.row(16)"
   ]
  },
  {
   "cell_type": "code",
   "execution_count": null,
   "metadata": {
    "collapsed": true,
    "deletable": true,
    "editable": true
   },
   "outputs": [],
   "source": []
  }
 ],
 "metadata": {
  "kernelspec": {
   "display_name": "SageMath 8.1",
   "language": "",
   "name": "sagemath"
  },
  "language_info": {
   "codemirror_mode": {
    "name": "ipython",
    "version": 2
   },
   "file_extension": ".py",
   "mimetype": "text/x-python",
   "name": "python",
   "nbconvert_exporter": "python",
   "pygments_lexer": "ipython2",
   "version": "2.7.14"
  }
 },
 "nbformat": 4,
 "nbformat_minor": 2
}
