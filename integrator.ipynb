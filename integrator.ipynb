{
 "cells": [
  {
   "cell_type": "code",
   "execution_count": 23,
   "metadata": {
    "collapsed": false,
    "deletable": true,
    "editable": true,
    "scrolled": true
   },
   "outputs": [
    {
     "name": "stdout",
     "output_type": "stream",
     "text": [
      "Integrating systems 1 through 1\n",
      "\n",
      "Integrating system number 1\n",
      "\n"
     ]
    },
    {
     "ename": "ZeroDivisionError",
     "evalue": "rational division by zero",
     "output_type": "error",
     "traceback": [
      "\u001b[0;31m---------------------------------------------------------------------------\u001b[0m",
      "\u001b[0;31mZeroDivisionError\u001b[0m                         Traceback (most recent call last)",
      "\u001b[0;32m<ipython-input-23-9b6b80373cd3>\u001b[0m in \u001b[0;36m<module>\u001b[0;34m()\u001b[0m\n\u001b[1;32m     40\u001b[0m     \u001b[0;32mprint\u001b[0m \u001b[0;34m\"Integrating system number\"\u001b[0m\u001b[0;34m,\u001b[0m \u001b[0mj\u001b[0m\u001b[0;34m;\u001b[0m\u001b[0;34m\u001b[0m\u001b[0m\n\u001b[1;32m     41\u001b[0m     \u001b[0;32mprint\u001b[0m \u001b[0;34m\"\"\u001b[0m\u001b[0;34m;\u001b[0m\u001b[0;34m\u001b[0m\u001b[0m\n\u001b[0;32m---> 42\u001b[0;31m     \u001b[0mget_ipython\u001b[0m\u001b[0;34m(\u001b[0m\u001b[0;34m)\u001b[0m\u001b[0;34m.\u001b[0m\u001b[0mmagic\u001b[0m\u001b[0;34m(\u001b[0m\u001b[0;34mu'time transitionMatricies = [deqs[i-1].numerical_transition_matrix(paths[j-1], precision[j-1],assume_analytic=true) for i in [1..noOfdeqs]]'\u001b[0m\u001b[0;34m)\u001b[0m\u001b[0;34m\u001b[0m\u001b[0m\n\u001b[0m\u001b[1;32m     43\u001b[0m     \u001b[0mallTransMats\u001b[0m\u001b[0;34m[\u001b[0m\u001b[0mj\u001b[0m\u001b[0;34m-\u001b[0m\u001b[0mInteger\u001b[0m\u001b[0;34m(\u001b[0m\u001b[0;36m1\u001b[0m\u001b[0;34m)\u001b[0m\u001b[0;34m]\u001b[0m\u001b[0;34m=\u001b[0m\u001b[0mtransitionMatricies\u001b[0m\u001b[0;34m;\u001b[0m\u001b[0;34m\u001b[0m\u001b[0m\n\u001b[1;32m     44\u001b[0m     \u001b[0;32mprint\u001b[0m \u001b[0;34m\"Maximal error in transition matricies:\"\u001b[0m\u001b[0;34m\u001b[0m\u001b[0m\n",
      "\u001b[0;32m/Applications/SageMath/local/lib/python2.7/site-packages/IPython/core/interactiveshell.pyc\u001b[0m in \u001b[0;36mmagic\u001b[0;34m(self, arg_s)\u001b[0m\n\u001b[1;32m   2156\u001b[0m         \u001b[0mmagic_name\u001b[0m\u001b[0;34m,\u001b[0m \u001b[0m_\u001b[0m\u001b[0;34m,\u001b[0m \u001b[0mmagic_arg_s\u001b[0m \u001b[0;34m=\u001b[0m \u001b[0marg_s\u001b[0m\u001b[0;34m.\u001b[0m\u001b[0mpartition\u001b[0m\u001b[0;34m(\u001b[0m\u001b[0;34m' '\u001b[0m\u001b[0;34m)\u001b[0m\u001b[0;34m\u001b[0m\u001b[0m\n\u001b[1;32m   2157\u001b[0m         \u001b[0mmagic_name\u001b[0m \u001b[0;34m=\u001b[0m \u001b[0mmagic_name\u001b[0m\u001b[0;34m.\u001b[0m\u001b[0mlstrip\u001b[0m\u001b[0;34m(\u001b[0m\u001b[0mprefilter\u001b[0m\u001b[0;34m.\u001b[0m\u001b[0mESC_MAGIC\u001b[0m\u001b[0;34m)\u001b[0m\u001b[0;34m\u001b[0m\u001b[0m\n\u001b[0;32m-> 2158\u001b[0;31m         \u001b[0;32mreturn\u001b[0m \u001b[0mself\u001b[0m\u001b[0;34m.\u001b[0m\u001b[0mrun_line_magic\u001b[0m\u001b[0;34m(\u001b[0m\u001b[0mmagic_name\u001b[0m\u001b[0;34m,\u001b[0m \u001b[0mmagic_arg_s\u001b[0m\u001b[0;34m)\u001b[0m\u001b[0;34m\u001b[0m\u001b[0m\n\u001b[0m\u001b[1;32m   2159\u001b[0m \u001b[0;34m\u001b[0m\u001b[0m\n\u001b[1;32m   2160\u001b[0m     \u001b[0;31m#-------------------------------------------------------------------------\u001b[0m\u001b[0;34m\u001b[0m\u001b[0;34m\u001b[0m\u001b[0m\n",
      "\u001b[0;32m/Applications/SageMath/local/lib/python2.7/site-packages/IPython/core/interactiveshell.pyc\u001b[0m in \u001b[0;36mrun_line_magic\u001b[0;34m(self, magic_name, line)\u001b[0m\n\u001b[1;32m   2077\u001b[0m                 \u001b[0mkwargs\u001b[0m\u001b[0;34m[\u001b[0m\u001b[0;34m'local_ns'\u001b[0m\u001b[0;34m]\u001b[0m \u001b[0;34m=\u001b[0m \u001b[0msys\u001b[0m\u001b[0;34m.\u001b[0m\u001b[0m_getframe\u001b[0m\u001b[0;34m(\u001b[0m\u001b[0mstack_depth\u001b[0m\u001b[0;34m)\u001b[0m\u001b[0;34m.\u001b[0m\u001b[0mf_locals\u001b[0m\u001b[0;34m\u001b[0m\u001b[0m\n\u001b[1;32m   2078\u001b[0m             \u001b[0;32mwith\u001b[0m \u001b[0mself\u001b[0m\u001b[0;34m.\u001b[0m\u001b[0mbuiltin_trap\u001b[0m\u001b[0;34m:\u001b[0m\u001b[0;34m\u001b[0m\u001b[0m\n\u001b[0;32m-> 2079\u001b[0;31m                 \u001b[0mresult\u001b[0m \u001b[0;34m=\u001b[0m \u001b[0mfn\u001b[0m\u001b[0;34m(\u001b[0m\u001b[0;34m*\u001b[0m\u001b[0margs\u001b[0m\u001b[0;34m,\u001b[0m\u001b[0;34m**\u001b[0m\u001b[0mkwargs\u001b[0m\u001b[0;34m)\u001b[0m\u001b[0;34m\u001b[0m\u001b[0m\n\u001b[0m\u001b[1;32m   2080\u001b[0m             \u001b[0;32mreturn\u001b[0m \u001b[0mresult\u001b[0m\u001b[0;34m\u001b[0m\u001b[0m\n\u001b[1;32m   2081\u001b[0m \u001b[0;34m\u001b[0m\u001b[0m\n",
      "\u001b[0;32m<decorator-gen-59>\u001b[0m in \u001b[0;36mtime\u001b[0;34m(self, line, cell, local_ns)\u001b[0m\n",
      "\u001b[0;32m/Applications/SageMath/local/lib/python2.7/site-packages/IPython/core/magic.pyc\u001b[0m in \u001b[0;36m<lambda>\u001b[0;34m(f, *a, **k)\u001b[0m\n\u001b[1;32m    186\u001b[0m     \u001b[0;31m# but it's overkill for just that one bit of state.\u001b[0m\u001b[0;34m\u001b[0m\u001b[0;34m\u001b[0m\u001b[0m\n\u001b[1;32m    187\u001b[0m     \u001b[0;32mdef\u001b[0m \u001b[0mmagic_deco\u001b[0m\u001b[0;34m(\u001b[0m\u001b[0marg\u001b[0m\u001b[0;34m)\u001b[0m\u001b[0;34m:\u001b[0m\u001b[0;34m\u001b[0m\u001b[0m\n\u001b[0;32m--> 188\u001b[0;31m         \u001b[0mcall\u001b[0m \u001b[0;34m=\u001b[0m \u001b[0;32mlambda\u001b[0m \u001b[0mf\u001b[0m\u001b[0;34m,\u001b[0m \u001b[0;34m*\u001b[0m\u001b[0ma\u001b[0m\u001b[0;34m,\u001b[0m \u001b[0;34m**\u001b[0m\u001b[0mk\u001b[0m\u001b[0;34m:\u001b[0m \u001b[0mf\u001b[0m\u001b[0;34m(\u001b[0m\u001b[0;34m*\u001b[0m\u001b[0ma\u001b[0m\u001b[0;34m,\u001b[0m \u001b[0;34m**\u001b[0m\u001b[0mk\u001b[0m\u001b[0;34m)\u001b[0m\u001b[0;34m\u001b[0m\u001b[0m\n\u001b[0m\u001b[1;32m    189\u001b[0m \u001b[0;34m\u001b[0m\u001b[0m\n\u001b[1;32m    190\u001b[0m         \u001b[0;32mif\u001b[0m \u001b[0mcallable\u001b[0m\u001b[0;34m(\u001b[0m\u001b[0marg\u001b[0m\u001b[0;34m)\u001b[0m\u001b[0;34m:\u001b[0m\u001b[0;34m\u001b[0m\u001b[0m\n",
      "\u001b[0;32m/Applications/SageMath/local/lib/python2.7/site-packages/IPython/core/magics/execution.pyc\u001b[0m in \u001b[0;36mtime\u001b[0;34m(self, line, cell, local_ns)\u001b[0m\n\u001b[1;32m   1178\u001b[0m         \u001b[0;32melse\u001b[0m\u001b[0;34m:\u001b[0m\u001b[0;34m\u001b[0m\u001b[0m\n\u001b[1;32m   1179\u001b[0m             \u001b[0mst\u001b[0m \u001b[0;34m=\u001b[0m \u001b[0mclock2\u001b[0m\u001b[0;34m(\u001b[0m\u001b[0;34m)\u001b[0m\u001b[0;34m\u001b[0m\u001b[0m\n\u001b[0;32m-> 1180\u001b[0;31m             \u001b[0;32mexec\u001b[0m\u001b[0;34m(\u001b[0m\u001b[0mcode\u001b[0m\u001b[0;34m,\u001b[0m \u001b[0mglob\u001b[0m\u001b[0;34m,\u001b[0m \u001b[0mlocal_ns\u001b[0m\u001b[0;34m)\u001b[0m\u001b[0;34m\u001b[0m\u001b[0m\n\u001b[0m\u001b[1;32m   1181\u001b[0m             \u001b[0mend\u001b[0m \u001b[0;34m=\u001b[0m \u001b[0mclock2\u001b[0m\u001b[0;34m(\u001b[0m\u001b[0;34m)\u001b[0m\u001b[0;34m\u001b[0m\u001b[0m\n\u001b[1;32m   1182\u001b[0m             \u001b[0mout\u001b[0m \u001b[0;34m=\u001b[0m \u001b[0mNone\u001b[0m\u001b[0;34m\u001b[0m\u001b[0m\n",
      "\u001b[0;32m<timed exec>\u001b[0m in \u001b[0;36m<module>\u001b[0;34m()\u001b[0m\n",
      "\u001b[0;32m/Applications/SageMath/local/lib/python2.7/site-packages/ore_algebra/ore_operator_1_1.pyc\u001b[0m in \u001b[0;36mnumerical_transition_matrix\u001b[0;34m(self, path, eps, **kwds)\u001b[0m\n\u001b[1;32m   2510\u001b[0m         \u001b[0;32mfrom\u001b[0m \u001b[0;34m.\u001b[0m\u001b[0manalytic\u001b[0m \u001b[0;32mimport\u001b[0m \u001b[0manalytic_continuation\u001b[0m \u001b[0;32mas\u001b[0m \u001b[0mancont\u001b[0m\u001b[0;34m\u001b[0m\u001b[0m\n\u001b[1;32m   2511\u001b[0m         \u001b[0mctx\u001b[0m \u001b[0;34m=\u001b[0m \u001b[0mancont\u001b[0m\u001b[0;34m.\u001b[0m\u001b[0mContext\u001b[0m\u001b[0;34m(\u001b[0m\u001b[0mself\u001b[0m\u001b[0;34m,\u001b[0m \u001b[0mpath\u001b[0m\u001b[0;34m,\u001b[0m \u001b[0meps\u001b[0m\u001b[0;34m,\u001b[0m \u001b[0;34m**\u001b[0m\u001b[0mkwds\u001b[0m\u001b[0;34m)\u001b[0m\u001b[0;34m\u001b[0m\u001b[0m\n\u001b[0;32m-> 2512\u001b[0;31m         \u001b[0mpairs\u001b[0m \u001b[0;34m=\u001b[0m \u001b[0mancont\u001b[0m\u001b[0;34m.\u001b[0m\u001b[0manalytic_continuation\u001b[0m\u001b[0;34m(\u001b[0m\u001b[0mctx\u001b[0m\u001b[0;34m)\u001b[0m\u001b[0;34m\u001b[0m\u001b[0m\n\u001b[0m\u001b[1;32m   2513\u001b[0m         \u001b[0;32massert\u001b[0m \u001b[0mlen\u001b[0m\u001b[0;34m(\u001b[0m\u001b[0mpairs\u001b[0m\u001b[0;34m)\u001b[0m \u001b[0;34m==\u001b[0m \u001b[0;36m1\u001b[0m\u001b[0;34m\u001b[0m\u001b[0m\n\u001b[1;32m   2514\u001b[0m         \u001b[0;32mreturn\u001b[0m \u001b[0mpairs\u001b[0m\u001b[0;34m[\u001b[0m\u001b[0;36m0\u001b[0m\u001b[0;34m]\u001b[0m\u001b[0;34m[\u001b[0m\u001b[0;36m1\u001b[0m\u001b[0;34m]\u001b[0m\u001b[0;34m\u001b[0m\u001b[0m\n",
      "\u001b[0;32m/Applications/SageMath/local/lib/python2.7/site-packages/ore_algebra/analytic/analytic_continuation.pyc\u001b[0m in \u001b[0;36manalytic_continuation\u001b[0;34m(ctx, ini, post)\u001b[0m\n\u001b[1;32m    191\u001b[0m     \u001b[0mstore_value_if_wanted\u001b[0m\u001b[0;34m(\u001b[0m\u001b[0mctx\u001b[0m\u001b[0;34m.\u001b[0m\u001b[0mpath\u001b[0m\u001b[0;34m.\u001b[0m\u001b[0mvert\u001b[0m\u001b[0;34m[\u001b[0m\u001b[0;36m0\u001b[0m\u001b[0;34m]\u001b[0m\u001b[0;34m)\u001b[0m\u001b[0;34m\u001b[0m\u001b[0m\n\u001b[1;32m    192\u001b[0m     \u001b[0;32mfor\u001b[0m \u001b[0mstep\u001b[0m \u001b[0;32min\u001b[0m \u001b[0mctx\u001b[0m\u001b[0;34m.\u001b[0m\u001b[0mpath\u001b[0m\u001b[0;34m:\u001b[0m\u001b[0;34m\u001b[0m\u001b[0m\n\u001b[0;32m--> 193\u001b[0;31m         \u001b[0mstep_mat\u001b[0m \u001b[0;34m=\u001b[0m \u001b[0mstep_transition_matrix\u001b[0m\u001b[0;34m(\u001b[0m\u001b[0mstep\u001b[0m\u001b[0;34m,\u001b[0m \u001b[0meps1\u001b[0m\u001b[0;34m,\u001b[0m \u001b[0mctx\u001b[0m\u001b[0;34m=\u001b[0m\u001b[0mctx\u001b[0m\u001b[0;34m)\u001b[0m\u001b[0;34m\u001b[0m\u001b[0m\n\u001b[0m\u001b[1;32m    194\u001b[0m         \u001b[0mpath_mat\u001b[0m \u001b[0;34m=\u001b[0m \u001b[0mstep_mat\u001b[0m\u001b[0;34m*\u001b[0m\u001b[0mpath_mat\u001b[0m\u001b[0;34m\u001b[0m\u001b[0m\n\u001b[1;32m    195\u001b[0m         \u001b[0mstore_value_if_wanted\u001b[0m\u001b[0;34m(\u001b[0m\u001b[0mstep\u001b[0m\u001b[0;34m.\u001b[0m\u001b[0mend\u001b[0m\u001b[0;34m)\u001b[0m\u001b[0;34m\u001b[0m\u001b[0m\n",
      "\u001b[0;32m/Applications/SageMath/local/lib/python2.7/site-packages/ore_algebra/analytic/analytic_continuation.pyc\u001b[0m in \u001b[0;36mstep_transition_matrix\u001b[0;34m(step, eps, rows, ctx)\u001b[0m\n\u001b[1;32m    149\u001b[0m     \u001b[0;32melse\u001b[0m\u001b[0;34m:\u001b[0m\u001b[0;34m\u001b[0m\u001b[0m\n\u001b[1;32m    150\u001b[0m         \u001b[0;32mraise\u001b[0m \u001b[0mTypeError\u001b[0m\u001b[0;34m(\u001b[0m\u001b[0mtype\u001b[0m\u001b[0;34m(\u001b[0m\u001b[0mz0\u001b[0m\u001b[0;34m)\u001b[0m\u001b[0;34m,\u001b[0m \u001b[0mtype\u001b[0m\u001b[0;34m(\u001b[0m\u001b[0mz1\u001b[0m\u001b[0;34m)\u001b[0m\u001b[0;34m)\u001b[0m\u001b[0;34m\u001b[0m\u001b[0m\n\u001b[0;32m--> 151\u001b[0;31m     \u001b[0;32mreturn\u001b[0m \u001b[0mfun\u001b[0m\u001b[0;34m(\u001b[0m\u001b[0mstep\u001b[0m\u001b[0;34m,\u001b[0m \u001b[0meps\u001b[0m\u001b[0;34m,\u001b[0m \u001b[0mrows\u001b[0m\u001b[0;34m,\u001b[0m \u001b[0mctx\u001b[0m\u001b[0;34m=\u001b[0m\u001b[0mctx\u001b[0m\u001b[0;34m)\u001b[0m\u001b[0;34m\u001b[0m\u001b[0m\n\u001b[0m\u001b[1;32m    152\u001b[0m \u001b[0;34m\u001b[0m\u001b[0m\n\u001b[1;32m    153\u001b[0m \u001b[0;32mdef\u001b[0m \u001b[0manalytic_continuation\u001b[0m\u001b[0;34m(\u001b[0m\u001b[0mctx\u001b[0m\u001b[0;34m,\u001b[0m \u001b[0mini\u001b[0m\u001b[0;34m=\u001b[0m\u001b[0mNone\u001b[0m\u001b[0;34m,\u001b[0m \u001b[0mpost\u001b[0m\u001b[0;34m=\u001b[0m\u001b[0mNone\u001b[0m\u001b[0;34m)\u001b[0m\u001b[0;34m:\u001b[0m\u001b[0;34m\u001b[0m\u001b[0m\n",
      "\u001b[0;32m/Applications/SageMath/local/lib/python2.7/site-packages/ore_algebra/analytic/analytic_continuation.pyc\u001b[0m in \u001b[0;36mordinary_step_transition_matrix\u001b[0;34m(step, eps, rows, ctx)\u001b[0m\n\u001b[1;32m    108\u001b[0m                 \u001b[0;32mpass\u001b[0m\u001b[0;34m\u001b[0m\u001b[0m\n\u001b[1;32m    109\u001b[0m         return binary_splitting.fundamental_matrix_ordinary(\n\u001b[0;32m--> 110\u001b[0;31m                 ldop, step.delta(), eps, rows, maj)\n\u001b[0m\u001b[1;32m    111\u001b[0m     \u001b[0;32melse\u001b[0m\u001b[0;34m:\u001b[0m\u001b[0;34m\u001b[0m\u001b[0m\n\u001b[1;32m    112\u001b[0m         return naive_sum.fundamental_matrix_ordinary(\n",
      "\u001b[0;32m/Applications/SageMath/local/lib/python2.7/site-packages/ore_algebra/analytic/binary_splitting.pyc\u001b[0m in \u001b[0;36mfundamental_matrix_ordinary\u001b[0;34m(dop, pt, eps, rows, maj)\u001b[0m\n\u001b[1;32m    483\u001b[0m         \u001b[0mprod\u001b[0m \u001b[0;34m=\u001b[0m \u001b[0mrec\u001b[0m\u001b[0;34m.\u001b[0m\u001b[0mbinsplit\u001b[0m\u001b[0;34m(\u001b[0m\u001b[0mlast\u001b[0m\u001b[0;34m,\u001b[0m \u001b[0mn\u001b[0m\u001b[0;34m)\u001b[0m \u001b[0;34m*\u001b[0m \u001b[0mprod\u001b[0m\u001b[0;34m\u001b[0m\u001b[0m\n\u001b[1;32m    484\u001b[0m         done, tail_bound = stopping_criterion.check(n, tail_bound,\n\u001b[0;32m--> 485\u001b[0;31m                 est=rec.error_estimate(prod), next_stride=n)\n\u001b[0m\u001b[1;32m    486\u001b[0m         \u001b[0;32mif\u001b[0m \u001b[0mdone\u001b[0m\u001b[0;34m:\u001b[0m\u001b[0;34m\u001b[0m\u001b[0m\n\u001b[1;32m    487\u001b[0m             \u001b[0;32mbreak\u001b[0m\u001b[0;34m\u001b[0m\u001b[0m\n",
      "\u001b[0;32m/Applications/SageMath/local/lib/python2.7/site-packages/ore_algebra/analytic/accuracy.pyc\u001b[0m in \u001b[0;36mcheck\u001b[0;34m(self, n, ini_tb, est, next_stride)\u001b[0m\n\u001b[1;32m     77\u001b[0m             \u001b[0;32mreturn\u001b[0m \u001b[0mFalse\u001b[0m\u001b[0;34m,\u001b[0m \u001b[0mIR\u001b[0m\u001b[0;34m(\u001b[0m\u001b[0;34m'inf'\u001b[0m\u001b[0;34m)\u001b[0m\u001b[0;34m\u001b[0m\u001b[0m\n\u001b[1;32m     78\u001b[0m \u001b[0;34m\u001b[0m\u001b[0m\n\u001b[0;32m---> 79\u001b[0;31m         \u001b[0mresid\u001b[0m \u001b[0;34m=\u001b[0m \u001b[0mself\u001b[0m\u001b[0;34m.\u001b[0m\u001b[0mget_residuals\u001b[0m\u001b[0;34m(\u001b[0m\u001b[0;34m)\u001b[0m\u001b[0;34m\u001b[0m\u001b[0m\n\u001b[0m\u001b[1;32m     80\u001b[0m \u001b[0;34m\u001b[0m\u001b[0m\n\u001b[1;32m     81\u001b[0m         \u001b[0mtb\u001b[0m \u001b[0;34m=\u001b[0m \u001b[0mIR\u001b[0m\u001b[0;34m(\u001b[0m\u001b[0;34m'inf'\u001b[0m\u001b[0;34m)\u001b[0m\u001b[0;34m\u001b[0m\u001b[0m\n",
      "\u001b[0;32m/Applications/SageMath/local/lib/python2.7/site-packages/ore_algebra/analytic/binary_splitting.pyc\u001b[0m in \u001b[0;36m<lambda>\u001b[0;34m()\u001b[0m\n\u001b[1;32m    477\u001b[0m     \u001b[0;31m# XXX clarify exact criterion\u001b[0m\u001b[0;34m\u001b[0m\u001b[0;34m\u001b[0m\u001b[0m\n\u001b[1;32m    478\u001b[0m     stopping_criterion = accuracy.StoppingCriterion(maj=maj, eps=eps,\n\u001b[0;32m--> 479\u001b[0;31m             \u001b[0mget_residuals\u001b[0m\u001b[0;34m=\u001b[0m\u001b[0;32mlambda\u001b[0m\u001b[0;34m:\u001b[0m \u001b[0mrec\u001b[0m\u001b[0;34m.\u001b[0m\u001b[0mnormalized_residuals\u001b[0m\u001b[0;34m(\u001b[0m\u001b[0mmaj\u001b[0m\u001b[0;34m,\u001b[0m \u001b[0mprod\u001b[0m\u001b[0;34m,\u001b[0m \u001b[0mn\u001b[0m\u001b[0;34m)\u001b[0m\u001b[0;34m,\u001b[0m\u001b[0;34m\u001b[0m\u001b[0m\n\u001b[0m\u001b[1;32m    480\u001b[0m             \u001b[0mget_bound\u001b[0m\u001b[0;34m=\u001b[0m\u001b[0;32mlambda\u001b[0m\u001b[0;34m(\u001b[0m\u001b[0mresid\u001b[0m\u001b[0;34m)\u001b[0m\u001b[0;34m:\u001b[0m\u001b[0;34m\u001b[0m\u001b[0m\n\u001b[1;32m    481\u001b[0m                 maj.matrix_sol_tail_bound(n, rad, resid, rows=rows))\n",
      "\u001b[0;32m/Applications/SageMath/local/lib/python2.7/site-packages/ore_algebra/analytic/binary_splitting.pyc\u001b[0m in \u001b[0;36mnormalized_residuals\u001b[0;34m(self, maj, prod, n)\u001b[0m\n\u001b[1;32m    423\u001b[0m     \u001b[0;32mdef\u001b[0m \u001b[0mnormalized_residuals\u001b[0m\u001b[0;34m(\u001b[0m\u001b[0mself\u001b[0m\u001b[0;34m,\u001b[0m \u001b[0mmaj\u001b[0m\u001b[0;34m,\u001b[0m \u001b[0mprod\u001b[0m\u001b[0;34m,\u001b[0m \u001b[0mn\u001b[0m\u001b[0;34m)\u001b[0m\u001b[0;34m:\u001b[0m\u001b[0;34m\u001b[0m\u001b[0m\n\u001b[1;32m    424\u001b[0m         return [self.normalized_residual(maj, prod, n, j)\n\u001b[0;32m--> 425\u001b[0;31m                 for j in xrange(self.orddeq)]\n\u001b[0m\u001b[1;32m    426\u001b[0m \u001b[0;34m\u001b[0m\u001b[0m\n\u001b[1;32m    427\u001b[0m     \u001b[0;32mdef\u001b[0m \u001b[0mterm\u001b[0m\u001b[0;34m(\u001b[0m\u001b[0mself\u001b[0m\u001b[0;34m,\u001b[0m \u001b[0mprod\u001b[0m\u001b[0;34m,\u001b[0m \u001b[0mparent\u001b[0m\u001b[0;34m,\u001b[0m \u001b[0mj\u001b[0m\u001b[0;34m)\u001b[0m\u001b[0;34m:\u001b[0m\u001b[0;34m\u001b[0m\u001b[0m\n",
      "\u001b[0;32m/Applications/SageMath/local/lib/python2.7/site-packages/ore_algebra/analytic/binary_splitting.pyc\u001b[0m in \u001b[0;36mnormalized_residual\u001b[0;34m(self, maj, prod, n, j)\u001b[0m\n\u001b[1;32m    419\u001b[0m         \u001b[0mbwrnp\u001b[0m \u001b[0;34m=\u001b[0m \u001b[0;34m[\u001b[0m\u001b[0;34m[\u001b[0m\u001b[0mpol\u001b[0m\u001b[0;34m(\u001b[0m\u001b[0mn\u001b[0m \u001b[0;34m+\u001b[0m \u001b[0mi\u001b[0m\u001b[0;34m)\u001b[0m \u001b[0;32mfor\u001b[0m \u001b[0mpol\u001b[0m \u001b[0;32min\u001b[0m \u001b[0mself\u001b[0m\u001b[0;34m.\u001b[0m\u001b[0mbwrec\u001b[0m\u001b[0;34m]\u001b[0m \u001b[0;32mfor\u001b[0m \u001b[0mi\u001b[0m \u001b[0;32min\u001b[0m \u001b[0mrange\u001b[0m\u001b[0;34m(\u001b[0m\u001b[0ms\u001b[0m\u001b[0;34m)\u001b[0m\u001b[0;34m]\u001b[0m\u001b[0;34m\u001b[0m\u001b[0m\n\u001b[1;32m    420\u001b[0m         \u001b[0maltlast\u001b[0m \u001b[0;34m=\u001b[0m \u001b[0;34m[\u001b[0m\u001b[0;34m[\u001b[0m\u001b[0mc\u001b[0m\u001b[0;34m]\u001b[0m \u001b[0;32mfor\u001b[0m \u001b[0mc\u001b[0m \u001b[0;32min\u001b[0m \u001b[0mreversed\u001b[0m\u001b[0;34m(\u001b[0m\u001b[0mlast\u001b[0m\u001b[0;34m[\u001b[0m\u001b[0;34m:\u001b[0m\u001b[0ms\u001b[0m\u001b[0;34m]\u001b[0m\u001b[0;34m)\u001b[0m\u001b[0;34m]\u001b[0m\u001b[0;34m\u001b[0m\u001b[0m\n\u001b[0;32m--> 421\u001b[0;31m         \u001b[0;32mreturn\u001b[0m \u001b[0mmaj\u001b[0m\u001b[0;34m.\u001b[0m\u001b[0mnormalized_residual\u001b[0m\u001b[0;34m(\u001b[0m\u001b[0mn\u001b[0m\u001b[0;34m,\u001b[0m \u001b[0maltlast\u001b[0m\u001b[0;34m,\u001b[0m \u001b[0mbwrnp\u001b[0m\u001b[0;34m)\u001b[0m\u001b[0;34m\u001b[0m\u001b[0m\n\u001b[0m\u001b[1;32m    422\u001b[0m \u001b[0;34m\u001b[0m\u001b[0m\n\u001b[1;32m    423\u001b[0m     \u001b[0;32mdef\u001b[0m \u001b[0mnormalized_residuals\u001b[0m\u001b[0;34m(\u001b[0m\u001b[0mself\u001b[0m\u001b[0;34m,\u001b[0m \u001b[0mmaj\u001b[0m\u001b[0;34m,\u001b[0m \u001b[0mprod\u001b[0m\u001b[0;34m,\u001b[0m \u001b[0mn\u001b[0m\u001b[0;34m)\u001b[0m\u001b[0;34m:\u001b[0m\u001b[0;34m\u001b[0m\u001b[0m\n",
      "\u001b[0;32m/Applications/SageMath/local/lib/python2.7/site-packages/ore_algebra/analytic/bounds.pyc\u001b[0m in \u001b[0;36mnormalized_residual\u001b[0;34m(self, n, last, bwrec_nplus, Ring)\u001b[0m\n\u001b[1;32m   1676\u001b[0m                 \u001b[0mlc\u001b[0m \u001b[0;34m=\u001b[0m \u001b[0mbwrec_nplus\u001b[0m\u001b[0;34m[\u001b[0m\u001b[0md\u001b[0m\u001b[0;34m]\u001b[0m\u001b[0;34m[\u001b[0m\u001b[0;36m0\u001b[0m\u001b[0;34m]\u001b[0m\u001b[0;34m[\u001b[0m\u001b[0;36m0\u001b[0m\u001b[0;34m]\u001b[0m\u001b[0;34m\u001b[0m\u001b[0m\n\u001b[1;32m   1677\u001b[0m                 \u001b[0;32massert\u001b[0m \u001b[0;32mnot\u001b[0m \u001b[0;34m(\u001b[0m\u001b[0mlc\u001b[0m\u001b[0;34m.\u001b[0m\u001b[0mparent\u001b[0m\u001b[0;34m(\u001b[0m\u001b[0;34m)\u001b[0m \u001b[0;32mis\u001b[0m \u001b[0mIC\u001b[0m \u001b[0;32mand\u001b[0m \u001b[0mlc\u001b[0m\u001b[0;34m.\u001b[0m\u001b[0mcontains_zero\u001b[0m\u001b[0;34m(\u001b[0m\u001b[0;34m)\u001b[0m\u001b[0;34m)\u001b[0m\u001b[0;34m\u001b[0m\u001b[0m\n\u001b[0;32m-> 1678\u001b[0;31m                 \u001b[0minv\u001b[0m \u001b[0;34m=\u001b[0m \u001b[0;34m~\u001b[0m\u001b[0mlc\u001b[0m\u001b[0;34m\u001b[0m\u001b[0m\n\u001b[0m\u001b[1;32m   1679\u001b[0m                 cor = sum(bwrec_nplus[d][0][u]*nres[k+u][d]\n\u001b[1;32m   1680\u001b[0m                           for u in range(1, logs-k))\n",
      "\u001b[0;32m/Applications/SageMath/src/sage/rings/rational.pyx\u001b[0m in \u001b[0;36msage.rings.rational.Rational.__invert__ (build/cythonized/sage/rings/rational.c:22271)\u001b[0;34m()\u001b[0m\n\u001b[1;32m   2408\u001b[0m         \"\"\"\n\u001b[1;32m   2409\u001b[0m         \u001b[0;32mif\u001b[0m \u001b[0mself\u001b[0m\u001b[0;34m.\u001b[0m\u001b[0mis_zero\u001b[0m\u001b[0;34m(\u001b[0m\u001b[0;34m)\u001b[0m\u001b[0;34m:\u001b[0m\u001b[0;34m\u001b[0m\u001b[0m\n\u001b[0;32m-> 2410\u001b[0;31m             \u001b[0;32mraise\u001b[0m \u001b[0mZeroDivisionError\u001b[0m\u001b[0;34m(\u001b[0m\u001b[0;34m'rational division by zero'\u001b[0m\u001b[0;34m)\u001b[0m\u001b[0;34m\u001b[0m\u001b[0m\n\u001b[0m\u001b[1;32m   2411\u001b[0m         \u001b[0mcdef\u001b[0m \u001b[0mRational\u001b[0m \u001b[0mx\u001b[0m\u001b[0;34m\u001b[0m\u001b[0m\n\u001b[1;32m   2412\u001b[0m         \u001b[0mx\u001b[0m \u001b[0;34m=\u001b[0m \u001b[0;34m<\u001b[0m\u001b[0mRational\u001b[0m\u001b[0;34m>\u001b[0m \u001b[0mRational\u001b[0m\u001b[0;34m.\u001b[0m\u001b[0m__new__\u001b[0m\u001b[0;34m(\u001b[0m\u001b[0mRational\u001b[0m\u001b[0;34m)\u001b[0m\u001b[0;34m\u001b[0m\u001b[0m\n",
      "\u001b[0;31mZeroDivisionError\u001b[0m: rational division by zero"
     ]
    }
   ],
   "source": [
    "import time\n",
    "from ore_algebra import *\n",
    "DOP, t, D = DifferentialOperators()\n",
    "# The following may be overridden in input file, but need not be specified there\n",
    "#\n",
    "#\n",
    "defaultPrecision=1e-1000;\n",
    "# Do not forget to increase the precision of initial conditions if going beyond e-100\n",
    "#\n",
    "#\n",
    "#\n",
    "precision=[]; #if empty we will use the default precision for all systems\n",
    "periodsOnly=true; \n",
    "paths=[]; #unless overridden we will convert this to a list of straight paths\n",
    "\n",
    "#load(\"~/git-projects/periods/integrate/data/current.sage\")\n",
    "load(\"~/git-projects/period-suite/current.sage\")\n",
    "steps=len(allODEs);\n",
    "cohomologies=[];\n",
    "allTransMats=[1..steps];\n",
    "\n",
    "if len(paths)==0:\n",
    "    paths=[[0,1] for j in [1..steps]]\n",
    "    \n",
    "if len(precision)==0:\n",
    "    precision=[defaultPrecision for j in [1..steps]]\n",
    "\n",
    "\n",
    "t0=time.time();\n",
    "\n",
    "\n",
    "print \"Integrating systems\", 1, \"through\", steps;\n",
    "for j in [1..steps]:\n",
    "    if periodsOnly and j==steps:\n",
    "        noOfdeqs=geometricGenus;\n",
    "    else:\n",
    "        noOfdeqs=len(allODEs[j-1]);\n",
    "    deqs=[deq.numerator() for deq in allODEs[j-1][0:noOfdeqs]];\n",
    "    print \"\";\n",
    "    print \"Integrating system number\", j;\n",
    "    print \"\";\n",
    "    %time transitionMatricies = [deqs[i-1].numerical_transition_matrix(paths[j-1], precision[j-1],assume_analytic=true) for i in [1..noOfdeqs]]\n",
    "    allTransMats[j-1]=transitionMatricies;\n",
    "    print \"Maximal error in transition matricies:\"\n",
    "    print [max(tm.apply_map(lambda x : x.diameter()).list()) for tm in transitionMatricies]\n",
    "    print \"The largest error:\"\n",
    "    print max([max(tm.apply_map(lambda x : x.diameter()).list()) for tm in transitionMatricies])\n",
    "    cohomology=[1..noOfdeqs];\n",
    "    for i in [1..noOfdeqs]:\n",
    "        if j==1:\n",
    "            init=Matrix(inits[i-1]);\n",
    "            a = init.nrows(); b = init.ncols();\n",
    "            init =  MatrixSpace(ComplexBallField(2000), a, b)(init);\n",
    "        else:\n",
    "            init=Matrix(rawInits[j-2][i-1])*cohomologies[j-2];\n",
    "        transitionMatrix=transitionMatricies[i-1];\n",
    "        cohomology[i-1]=(transitionMatrix * init).row(0);\n",
    "    cohomologies=cohomologies+[Matrix(cohomology)];\n",
    "    \n",
    "periodsWithError=Matrix(cohomologies[-1].rows()[0:geometricGenus]);\n",
    "maximalError=max(periodsWithError.apply_map(lambda x : x.diameter()).list());\n",
    "periods=periodsWithError.apply_map(lambda x : x.mid());\n",
    "print \"\\nAccumulated maximal error:\", maximalError\n",
    "t1=time.time();\n",
    "print \"\\nIt took\", t1-t0, \"seconds in total.\\n\"\n",
    "print periods\n"
   ]
  },
  {
   "cell_type": "code",
   "execution_count": 11,
   "metadata": {
    "collapsed": false,
    "deletable": true,
    "editable": true
   },
   "outputs": [
    {
     "name": "stdout",
     "output_type": "stream",
     "text": [
      "\n",
      "Picard rank appears to be 18 \n",
      "\n",
      "Check to see if this makes sense:\n",
      "\n",
      "01 || ---hyperplane section---\n",
      "02 || 1.41421356237310 (0, 0)\n",
      "03 || 1.41421356237310 (0, 0)\n",
      "04 || 1.41421356237310 (0, 0)\n",
      "05 || 1.41421356237310 (0, 0)\n",
      "06 || 1.73205080756888 (0, 1)\n",
      "07 || 1.73205080756888 (0, 0)\n",
      "08 || 1.73205080756888 (0, -1)\n",
      "09 || 1.73205080756888 (0, 0)\n",
      "10 || 1.73205080756888 (0, 1)\n",
      "11 || 1.73205080756888 (0, 0)\n",
      "12 || 2.00000000000000 (0, 0)\n",
      "13 || 2.00000000000000 (0, 0)\n",
      "14 || 2.23606797749979 (0, 1)\n",
      "15 || 2.00000000000000 (0, 0)\n",
      "16 || 2.00000000000000 (-1, 0)\n",
      "17 || 1.73205080756888 (0, -1)\n",
      "18 || 1.73205080756888 (0, 0)\n",
      "19 || 4.28673296863418e44 (-173719087909469229906316703792442564459910454513491577005064708940513285551, 108517336578602628859792573478231584309402692410319262084681147322820412043)\n",
      "20 || 8.48887942328466e44 (-813911998441755212594829197316081453500455667288311428485290267067943070614, -351370132025828631443251728205353138346914267564479123577182777888689569173)\n",
      "21 || 8.55050008890029e44 (304996849693989389717451870624117953638700205343377461152251956623704056312, -385075692607801478027793280938042256857432341592622713875723318101233792978)\n",
      "22 || 2.58312844061218e45 (-287833317355331406556099388837365579039702603271665880650167948048043812311, -3280057370646259188267245635520367429527737421488461143729851334691175614818)\n"
     ]
    }
   ],
   "source": [
    "#### Only for K3s\n",
    "##\n",
    "## Try a few values for \"scale\", do not exceed the negative exponent of accumulated error\n",
    "##\n",
    "scale = 90\n",
    "##\n",
    "## verify that you found honest relations by checking suspected relations using more digits\n",
    "##\n",
    "verify= 120\n",
    "##\n",
    "##\n",
    "\n",
    "load(\"K3_intersection_matrix.sage\")\n",
    "\n",
    "periodVector=periods*intersectionMatrix.inverse()\n",
    "u1 = periodVector.apply_map(real)[0].list()\n",
    "u2 = periodVector.apply_map(imag)[0].list()\n",
    "M = matrix([u1,u2])\n",
    "\n",
    "proj = M.transpose()\n",
    "Proj = (10^scale*proj).apply_map(lambda x : 10^3*x.round())\n",
    "lattice = block_matrix([[Proj, matrix.identity(Proj.dimensions()[0])]])\n",
    "reducedLattice = lattice.LLL()\n",
    "\n",
    "Proj2 = (10^verify*proj).apply_map(lambda x : x.round())\n",
    "testRelations = [v[2:23] * Proj2 for v in reducedLattice.rows()]\n",
    "\n",
    "norms1 = [reducedLattice.row(i)[2:23].norm().n() for i in [0..20]]\n",
    "norms2 = [testRelations[i].norm().n()+reducedLattice.row(i)[2:23].norm().n() for i in [0..20]]\n",
    "\n",
    "norms=norms1\n",
    "\n",
    "sortedNorms=sorted(norms)\n",
    "consecutiveRatios = [sortedNorms[i]/sortedNorms[i-1] for i in [1..20]]\n",
    "\n",
    "j=0; rank=1;\n",
    "while j <= 19 :\n",
    "    if consecutiveRatios[j] > 100 :\n",
    "        j=20\n",
    "    rank = rank + 1\n",
    "    j=j+1\n",
    "    \n",
    "if sortedNorms[0] > 50 :\n",
    "    rank = 1\n",
    "\n",
    "print \"\\nPicard rank appears to be\", rank, \"\\n\"\n",
    "print \"Check to see if this makes sense:\\n\"\n",
    "\n",
    "print \"01\",\"||\", \"---hyperplane section---\"\n",
    "j=0\n",
    "while j <= 7 :\n",
    "    print \"0\" + str(j+2), \"||\", norms[j], testRelations[j]\n",
    "    j=j+1\n",
    "while j <= 20 :\n",
    "    print j+2, \"||\", norms[j], testRelations[j]\n",
    "    j=j+1\n"
   ]
  },
  {
   "cell_type": "code",
   "execution_count": 114,
   "metadata": {
    "collapsed": false,
    "deletable": true,
    "editable": true
   },
   "outputs": [
    {
     "data": {
      "text/plain": [
       "Free module of degree 21 and rank 19 over Integer Ring\n",
       "Echelon basis matrix:\n",
       "[ 1  0  0  0  0  0  0  0  0  0  0  0  0  0  0  0  0  0  0  1  1]\n",
       "[ 0  1  0  0  0  0  0  0  0  0  0  0  0  0  0  0  0  0  0  0  1]\n",
       "[ 0  0  1  0  0  0  0  0  0  0  0  0  0  0  0  0  0  0  0 -2  0]\n",
       "[ 0  0  0  1  0  0  0  0  0  0  0  0  0  0  0  0  0  0  0 -2 -1]\n",
       "[ 0  0  0  0  1  0  0  0  0  0  0  0  0  0  0  0  0  0  0 -1  0]\n",
       "[ 0  0  0  0  0  1  0  0  0  0  0  0  0  0  0  0  0  0  0 -2  0]\n",
       "[ 0  0  0  0  0  0  1  0  0  0  0  0  0  0  0  0  0  0  0 -2 -1]\n",
       "[ 0  0  0  0  0  0  0  1  0  0  0  0  0  0  0  0  0  0  0 -2 -1]\n",
       "[ 0  0  0  0  0  0  0  0  1  0  0  0  0  0  0  0  0  0  0 -5 -3]\n",
       "[ 0  0  0  0  0  0  0  0  0  1  0  0  0  0  0  0  0  0  0 -2 -1]\n",
       "[ 0  0  0  0  0  0  0  0  0  0  1  0  0  0  0  0  0  0  0 -2 -1]\n",
       "[ 0  0  0  0  0  0  0  0  0  0  0  1  0  0  0  0  0  0  0 -2 -1]\n",
       "[ 0  0  0  0  0  0  0  0  0  0  0  0  1  0  0  0  0  0  0 -1 -1]\n",
       "[ 0  0  0  0  0  0  0  0  0  0  0  0  0  1  0  0  0  0  0 -2 -2]\n",
       "[ 0  0  0  0  0  0  0  0  0  0  0  0  0  0  1  0  0  0  0 -1  0]\n",
       "[ 0  0  0  0  0  0  0  0  0  0  0  0  0  0  0  1  0  0  0 -2 -2]\n",
       "[ 0  0  0  0  0  0  0  0  0  0  0  0  0  0  0  0  1  0  0 -2 -1]\n",
       "[ 0  0  0  0  0  0  0  0  0  0  0  0  0  0  0  0  0  1  0 -1 -1]\n",
       "[ 0  0  0  0  0  0  0  0  0  0  0  0  0  0  0  0  0  0  1 -1 -1]"
      ]
     },
     "execution_count": 114,
     "metadata": {},
     "output_type": "execute_result"
    }
   ],
   "source": [
    "rel1=reducedLattice[0:19,2:23]\n",
    "rel1.row_space()"
   ]
  },
  {
   "cell_type": "code",
   "execution_count": 101,
   "metadata": {
    "collapsed": false,
    "deletable": true,
    "editable": true
   },
   "outputs": [
    {
     "data": {
      "text/plain": [
       "Free module of degree 21 and rank 17 over Integer Ring\n",
       "Echelon basis matrix:\n",
       "[ 1  0  0  0  0  0  0  0  0  0  0  0  0  0  0  0  0  0  1  0  0]\n",
       "[ 0  1  0  0  0  0  0  0  0  0  0  0  0  0  0  0  0  0  2 -2 -1]\n",
       "[ 0  0  1  0  0  0  0  0  0  0  0  0  0  0  0  0 -1  0  2 -2 -1]\n",
       "[ 0  0  0  1  0  0  0  0  0  0  0  0  0  0  0  0 -1  0  2 -2 -2]\n",
       "[ 0  0  0  0  1  0  0  0  0  0  0  0  0  0  0  0  0  0  1 -2 -1]\n",
       "[ 0  0  0  0  0  1  0  0  0  0  0  0  0  0  0  0  0  0  2 -4 -2]\n",
       "[ 0  0  0  0  0  0  1  0  0  0  0  0  0  0  0  0  0  0  2 -4 -3]\n",
       "[ 0  0  0  0  0  0  0  1  0  0  0  0  0  0  0  0 -1  0  1 -1 -1]\n",
       "[ 0  0  0  0  0  0  0  0  1  0  0  0  0  0  0  0 -2  0  1 -2 -2]\n",
       "[ 0  0  0  0  0  0  0  0  0  1  0  0  0  0  0  0 -1  0  1 -1 -1]\n",
       "[ 0  0  0  0  0  0  0  0  0  0  1  0  0  0  0  0  0  0  0 -2 -1]\n",
       "[ 0  0  0  0  0  0  0  0  0  0  0  1  0  0  0  0  0  0  0 -2 -1]\n",
       "[ 0  0  0  0  0  0  0  0  0  0  0  0  1  0  0  0  0  0  1 -2 -2]\n",
       "[ 0  0  0  0  0  0  0  0  0  0  0  0  0  1  0  0  0  0  0 -2 -2]\n",
       "[ 0  0  0  0  0  0  0  0  0  0  0  0  0  0  1  0  0  0  1 -2 -1]\n",
       "[ 0  0  0  0  0  0  0  0  0  0  0  0  0  0  0  1 -1  0  0  0 -1]\n",
       "[ 0  0  0  0  0  0  0  0  0  0  0  0  0  0  0  0  0  1  0 -1 -1]"
      ]
     },
     "execution_count": 101,
     "metadata": {},
     "output_type": "execute_result"
    }
   ],
   "source": [
    "rel2=reducedLattice[0:17,2:23]\n",
    "rel2.row_space()"
   ]
  },
  {
   "cell_type": "code",
   "execution_count": 88,
   "metadata": {
    "collapsed": false,
    "deletable": true,
    "editable": true
   },
   "outputs": [
    {
     "data": {
      "text/plain": [
       "False"
      ]
     },
     "execution_count": 88,
     "metadata": {},
     "output_type": "execute_result"
    }
   ],
   "source": [
    "Out[86]==Out[84]"
   ]
  },
  {
   "cell_type": "code",
   "execution_count": 115,
   "metadata": {
    "collapsed": false,
    "deletable": true,
    "editable": true
   },
   "outputs": [
    {
     "data": {
      "text/plain": [
       "Free module of degree 21 and rank 19 over Integer Ring\n",
       "Echelon basis matrix:\n",
       "[ 1  0  0  0  0  0  0  0  0  0  0  0  0  0  0  0  0  0  0  1  1]\n",
       "[ 0  1  0  0  0  0  0  0  0  0  0  0  0  0  0  0  0  0  0  0  1]\n",
       "[ 0  0  1  0  0  0  0  0  0  0  0  0  0  0  0  0  0  0  0 -2  0]\n",
       "[ 0  0  0  1  0  0  0  0  0  0  0  0  0  0  0  0  0  0  0 -2 -1]\n",
       "[ 0  0  0  0  1  0  0  0  0  0  0  0  0  0  0  0  0  0  0 -1  0]\n",
       "[ 0  0  0  0  0  1  0  0  0  0  0  0  0  0  0  0  0  0  0 -2  0]\n",
       "[ 0  0  0  0  0  0  1  0  0  0  0  0  0  0  0  0  0  0  0 -2 -1]\n",
       "[ 0  0  0  0  0  0  0  1  0  0  0  0  0  0  0  0  0  0  0 -2 -1]\n",
       "[ 0  0  0  0  0  0  0  0  1  0  0  0  0  0  0  0  0  0  0 -5 -3]\n",
       "[ 0  0  0  0  0  0  0  0  0  1  0  0  0  0  0  0  0  0  0 -2 -1]\n",
       "[ 0  0  0  0  0  0  0  0  0  0  1  0  0  0  0  0  0  0  0 -2 -1]\n",
       "[ 0  0  0  0  0  0  0  0  0  0  0  1  0  0  0  0  0  0  0 -2 -1]\n",
       "[ 0  0  0  0  0  0  0  0  0  0  0  0  1  0  0  0  0  0  0 -1 -1]\n",
       "[ 0  0  0  0  0  0  0  0  0  0  0  0  0  1  0  0  0  0  0 -2 -2]\n",
       "[ 0  0  0  0  0  0  0  0  0  0  0  0  0  0  1  0  0  0  0 -1  0]\n",
       "[ 0  0  0  0  0  0  0  0  0  0  0  0  0  0  0  1  0  0  0 -2 -2]\n",
       "[ 0  0  0  0  0  0  0  0  0  0  0  0  0  0  0  0  1  0  0 -2 -1]\n",
       "[ 0  0  0  0  0  0  0  0  0  0  0  0  0  0  0  0  0  1  0 -1 -1]\n",
       "[ 0  0  0  0  0  0  0  0  0  0  0  0  0  0  0  0  0  0  1 -1 -1]"
      ]
     },
     "execution_count": 115,
     "metadata": {},
     "output_type": "execute_result"
    }
   ],
   "source": [
    "block_matrix([[rel1],[rel2]]).row_space()"
   ]
  },
  {
   "cell_type": "code",
   "execution_count": 14,
   "metadata": {
    "collapsed": false,
    "deletable": true,
    "editable": true
   },
   "outputs": [
    {
     "data": {
      "text/plain": [
       "[1, x^2, x^4, x^6]"
      ]
     },
     "execution_count": 14,
     "metadata": {},
     "output_type": "execute_result"
    }
   ],
   "source": [
    "deqs[0].local_basis_monomials(0)"
   ]
  },
  {
   "cell_type": "code",
   "execution_count": null,
   "metadata": {
    "collapsed": true
   },
   "outputs": [],
   "source": []
  }
 ],
 "metadata": {
  "kernelspec": {
   "display_name": "SageMath 8.1",
   "language": "",
   "name": "sagemath"
  },
  "language_info": {
   "codemirror_mode": {
    "name": "ipython",
    "version": 2
   },
   "file_extension": ".py",
   "mimetype": "text/x-python",
   "name": "python",
   "nbconvert_exporter": "python",
   "pygments_lexer": "ipython2",
   "version": "2.7.14"
  }
 },
 "nbformat": 4,
 "nbformat_minor": 2
}
