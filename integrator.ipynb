{
 "cells": [
  {
   "cell_type": "code",
   "execution_count": 2,
   "metadata": {
    "collapsed": false,
    "deletable": true,
    "editable": true,
    "scrolled": true
   },
   "outputs": [
    {
     "name": "stdout",
     "output_type": "stream",
     "text": [
      "Integrating systems 1 through 5\n",
      "\n",
      "Integrating system number 1\n",
      "\n",
      "CPU times: user 10.5 s, sys: 156 ms, total: 10.6 s\n",
      "Wall time: 10.6 s\n",
      "Maximal error in transition matricies:\n",
      "[3.9993473e-32, 3.9993473e-32, 4.8061152e-35, 1.6556212e-31, 1.5972817e-31, 1.4921127e-30, 1.1219174e-31, 4.8061152e-35, 1.6556212e-31, 1.5972817e-31, 1.4921127e-30, 1.1219174e-31, 1.5071348e-33, 2.6840740e-31, 1.5972817e-31, 1.4921127e-30, 1.1219174e-31, 1.5071348e-33, 2.6840740e-31, 8.5744197e-33, 8.5744197e-33]\n",
      "\n",
      "Integrating system number 2\n",
      "\n",
      "CPU times: user 746 ms, sys: 60.4 ms, total: 807 ms\n",
      "Wall time: 762 ms\n",
      "Maximal error in transition matricies:\n",
      "[1.4789430e-44, 1.4789430e-44, 4.5522612e-44, 1.5925113e-45, 3.8565154e-41, 3.8852788e-41, 4.1612929e-41, 4.5522612e-44, 1.5925113e-45, 3.8565154e-41, 3.8852788e-41, 4.1612929e-41, 6.6482651e-42, 9.7438767e-45, 3.8565154e-41, 3.8852788e-41, 4.1612929e-41, 6.6482651e-42, 9.7438767e-45, 1.8342437e-41, 1.8342437e-41]\n",
      "\n",
      "Integrating system number 3\n",
      "\n",
      "CPU times: user 11 s, sys: 145 ms, total: 11.1 s\n",
      "Wall time: 11.1 s\n",
      "Maximal error in transition matricies:\n",
      "[4.8508538e-32, 1.2241613e-31, 6.0084474e-31, 3.0011437e-31, 1.4347335e-30, 1.5577836e-31, 0.00000000, 3.6505524e-31, 4.3857976e-32, 2.8121559e-33, 3.1200310e-31, 0.00000000, 2.3032163e-30, 8.3942334e-31, 8.4713877e-32, 1.9912769e-31, 0.00000000, 1.2414515e-32, 1.7144097e-33, 1.3433687e-30, 1.0545992e-31]\n",
      "\n",
      "Integrating system number 4\n",
      "\n",
      "CPU times: user 693 ms, sys: 68.6 ms, total: 762 ms\n",
      "Wall time: 712 ms\n",
      "Maximal error in transition matricies:\n",
      "[2.7670832e-35, 1.9913663e-34, 2.0059147e-34, 5.1404237e-35, 2.1481054e-34, 5.5678030e-35, 0.00000000, 6.7181896e-32, 5.3851583e-34, 1.4245146e-34, 6.4267467e-32, 1.4356465e-34, 0.00000000, 1.5413206e-34, 6.6634317e-32, 4.9774085e-32, 6.2294803e-32, 3.8491855e-34, 0.00000000, 4.7563440e-32, 2.9522087e-32]\n",
      "\n",
      "Integrating system number 5\n",
      "\n",
      "CPU times: user 414 ms, sys: 33.9 ms, total: 447 ms\n",
      "Wall time: 430 ms\n",
      "Maximal error in transition matricies:\n",
      "[7.8673874e-33]\n",
      "\n",
      "Accumulated maximal error: 2.9130160e-29\n",
      "\n",
      "It took 24.0167970657 seconds in total.\n",
      "\n",
      "[-0.4316236709805138010425403540873 - 0.5143890605397285680823904866275*I -0.2296621583659595888375465305004 - 0.6309915942136854420776769818282*I  0.8549905676588575260095319087993 - 0.4005630723909505159279521113379*I  0.9745688442378871387475066393844 - 0.2580552316816679002554493180655*I  0.8111871571538272888956803541133 + 0.2952479796230132290956045753742*I   1.539583704914376439515717940740 + 0.3712884703997420785562190786632*I  1.004055238703896600258898757867 + 0.09082957882051220064316948283667*I  0.7470251751613807490827981118771 + 0.2718949280062386046332118584573*I  0.5815249987878677001548265260999 + 0.3357436145906722130781058882449*I  0.3974837934433331281664021875941 + 0.6884621254290659580484862148255*I  -1.293573639649752951603152664641 + 0.5402699169443649057450910888813*I -0.9191525496513040658539179124079 + 0.9137441955480451651036893239062*I -0.3974837934433331281359514884331 + 0.6884621254290659579736205475452*I  -0.5991547382136699736112884641764 + 1.464504956360279340701651046063*I  0.1380446727671467111372616404835 + 0.7828902429593950729949216009833*I -0.6664276878404602346428441838925 + 0.6688301597778851527266570017492*I -0.8275350640524911881612787171435 + 0.5758147727534347712912609602249*I -0.6938533065122983215697865815798 - 0.2912479054948168766392556924747*I  0.1675310672331561726144092878713 - 0.9501158958205507726905404606142*I -0.8850698479285274601789956966352 - 0.5109953149531564684581754101364*I -0.5429451732573733376503808741340 - 0.7724442922213964683424354242180*I]\n"
     ]
    }
   ],
   "source": [
    "import time\n",
    "from ore_algebra import *\n",
    "DOP, t, D = DifferentialOperators()\n",
    "\n",
    "# These may be overridden in input file, but need not be specified there\n",
    "periodsOnly=true; \n",
    "paths=[]; #unless overridden we will convert this to a list of straight paths\n",
    "defaultPrecision=1e-30;\n",
    "precision=[]; #if empty we will use the default precision for all systems\n",
    "\n",
    "#load(\"~/git-projects/periods/integrate/data/current.sage\")\n",
    "load(\"~/git-projects/period-suite/current.sage\")\n",
    "steps=len(allODEs);\n",
    "cohomologies=[];\n",
    "allTransMats=[1..steps];\n",
    "\n",
    "if len(paths)==0:\n",
    "    paths=[[0,1] for j in [1..steps]]\n",
    "    \n",
    "if len(precision)==0:\n",
    "    precision=[defaultPrecision for j in [1..steps]]\n",
    "\n",
    "\n",
    "t0=time.time();\n",
    "\n",
    "\n",
    "print \"Integrating systems\", 1, \"through\", steps;\n",
    "for j in [1..steps]:\n",
    "    if periodsOnly and j==steps:\n",
    "        noOfdeqs=geometricGenus;\n",
    "    else:\n",
    "        noOfdeqs=len(allODEs[j-1]);\n",
    "    deqs=[deq.numerator() for deq in allODEs[j-1][0:noOfdeqs]];\n",
    "    print \"\";\n",
    "    print \"Integrating system number\", j;\n",
    "    print \"\";\n",
    "    %time transitionMatricies = [deqs[i-1].numerical_transition_matrix(paths[j-1], precision[j-1],assume_analytic=true) for i in [1..noOfdeqs]]\n",
    "    allTransMats[j-1]=transitionMatricies;\n",
    "    print \"Maximal error in transition matricies:\"\n",
    "    print [max(tm.apply_map(lambda x : x.diameter()).list()) for tm in transitionMatricies]\n",
    "    cohomology=[1..noOfdeqs];\n",
    "    for i in [1..noOfdeqs]:\n",
    "        if j==1:\n",
    "            init=Matrix(inits[i-1]);\n",
    "            a = init.nrows(); b = init.ncols();\n",
    "            init =  MatrixSpace(ComplexBallField(300), a, b)(init);\n",
    "        else:\n",
    "            init=Matrix(rawInits[j-2][i-1])*cohomologies[j-2];\n",
    "        transitionMatrix=transitionMatricies[i-1];\n",
    "        cohomology[i-1]=(transitionMatrix * init).row(0);\n",
    "    cohomologies=cohomologies+[Matrix(cohomology)];\n",
    "    \n",
    "periodsWithError=Matrix(cohomologies[-1].rows()[0:geometricGenus]);\n",
    "maximalError=max(periodsWithError.apply_map(lambda x : x.diameter()).list());\n",
    "periods=periodsWithError.apply_map(lambda x : x.mid());\n",
    "print \"\\nAccumulated maximal error:\", maximalError\n",
    "t1=time.time();\n",
    "print \"\\nIt took\", t1-t0, \"seconds in total.\\n\"\n",
    "print periods\n"
   ]
  },
  {
   "cell_type": "code",
   "execution_count": 9,
   "metadata": {
    "collapsed": false,
    "deletable": true,
    "editable": true
   },
   "outputs": [
    {
     "data": {
      "text/plain": [
       "1"
      ]
     },
     "execution_count": 9,
     "metadata": {},
     "output_type": "execute_result"
    }
   ],
   "source": [
    "# Only for K3s\n",
    "##\n",
    "## Try a few values for \"scale\", do not exceed the negative exponent of accumulated error\n",
    "##\n",
    "scale = 23\n",
    "##\n",
    "##\n",
    "periodVector=periods\n",
    "u1 = periodVector.apply_map(real)[0].list()\n",
    "u2 = periodVector.apply_map(imag)[0].list()\n",
    "M = matrix([u1,u2])\n",
    "#M = matrix([u1,u2])\n",
    "#proj = (M.pseudoinverse() * M)\n",
    "proj = M.transpose()\n",
    "lattice = block_matrix([[(10^scale*proj).apply_map(lambda x : x.round()), matrix.identity(proj.dimensions()[0])]])\n",
    "generatorNorms = [r.norm().n() for r in lattice.LLL().rows()]\n",
    "consecutiveRatios = [generatorNorms[i]/generatorNorms[i-1] for i in [1..20]]\n",
    "\n",
    "j=0; rank=1;\n",
    "while j <= 19 :\n",
    "    if consecutiveRatios[j] > 100 :\n",
    "        j=20\n",
    "    rank = rank + 1\n",
    "    j=j+1\n",
    "    \n",
    "if generatorNorms[0] > 100 :\n",
    "    rank = 1\n",
    "\n",
    "rank"
   ]
  },
  {
   "cell_type": "code",
   "execution_count": 35,
   "metadata": {
    "collapsed": false,
    "deletable": true,
    "editable": true
   },
   "outputs": [
    {
     "data": {
      "text/plain": [
       "[1.41421356237310,\n",
       " 1.73205080756888,\n",
       " 2.00000000000000,\n",
       " 2.00000000000000,\n",
       " 2.23606797749979,\n",
       " 2.44948974278318,\n",
       " 2.44948974278318,\n",
       " 2.64575131106459,\n",
       " 2.64575131106459,\n",
       " 2.44948974278318,\n",
       " 2.64575131106459,\n",
       " 3.00000000000000,\n",
       " 3.16227766016838,\n",
       " 43880.3838064345,\n",
       " 45679.9549036555,\n",
       " 51086.7701269125,\n",
       " 59214.2089282632,\n",
       " 57768.7252412584,\n",
       " 58580.7529654579,\n",
       " 75789.3881028208,\n",
       " 75501.3145117355]"
      ]
     },
     "execution_count": 35,
     "metadata": {},
     "output_type": "execute_result"
    }
   ],
   "source": [
    "generatorNorms"
   ]
  },
  {
   "cell_type": "code",
   "execution_count": null,
   "metadata": {
    "collapsed": true,
    "deletable": true,
    "editable": true
   },
   "outputs": [],
   "source": []
  }
 ],
 "metadata": {
  "kernelspec": {
   "display_name": "SageMath 8.1",
   "language": "",
   "name": "sagemath"
  },
  "language_info": {
   "codemirror_mode": {
    "name": "ipython",
    "version": 2
   },
   "file_extension": ".py",
   "mimetype": "text/x-python",
   "name": "python",
   "nbconvert_exporter": "python",
   "pygments_lexer": "ipython2",
   "version": "2.7.14"
  }
 },
 "nbformat": 4,
 "nbformat_minor": 2
}
